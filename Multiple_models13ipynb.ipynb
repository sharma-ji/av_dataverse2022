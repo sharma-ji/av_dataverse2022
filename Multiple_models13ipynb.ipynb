{
  "nbformat": 4,
  "nbformat_minor": 0,
  "metadata": {
    "colab": {
      "provenance": [],
      "collapsed_sections": []
    },
    "kernelspec": {
      "name": "python3",
      "display_name": "Python 3"
    },
    "language_info": {
      "name": "python"
    }
  },
  "cells": [
    {
      "cell_type": "code",
      "execution_count": 1,
      "metadata": {
        "id": "yKhJI6kyIe21"
      },
      "outputs": [],
      "source": [
        "import pandas as pd\n",
        "import numpy as np"
      ]
    },
    {
      "cell_type": "code",
      "source": [
        "!pip install catboost\n",
        "!pip install shap\n",
        "!pip install pyLDAvis\n",
        "!pip install category_encoders"
      ],
      "metadata": {
        "colab": {
          "base_uri": "https://localhost:8080/"
        },
        "id": "HD8XgMN4LxKd",
        "outputId": "dcdafc29-8415-4427-ec97-dcbd5733ef4a"
      },
      "execution_count": 2,
      "outputs": [
        {
          "output_type": "stream",
          "name": "stdout",
          "text": [
            "Looking in indexes: https://pypi.org/simple, https://us-python.pkg.dev/colab-wheels/public/simple/\n",
            "Collecting catboost\n",
            "  Downloading catboost-1.1.1-cp37-none-manylinux1_x86_64.whl (76.6 MB)\n",
            "\u001b[K     |████████████████████████████████| 76.6 MB 1.2 MB/s \n",
            "\u001b[?25hRequirement already satisfied: scipy in /usr/local/lib/python3.7/dist-packages (from catboost) (1.7.3)\n",
            "Requirement already satisfied: numpy>=1.16.0 in /usr/local/lib/python3.7/dist-packages (from catboost) (1.21.6)\n",
            "Requirement already satisfied: pandas>=0.24.0 in /usr/local/lib/python3.7/dist-packages (from catboost) (1.3.5)\n",
            "Requirement already satisfied: plotly in /usr/local/lib/python3.7/dist-packages (from catboost) (5.5.0)\n",
            "Requirement already satisfied: graphviz in /usr/local/lib/python3.7/dist-packages (from catboost) (0.10.1)\n",
            "Requirement already satisfied: matplotlib in /usr/local/lib/python3.7/dist-packages (from catboost) (3.2.2)\n",
            "Requirement already satisfied: six in /usr/local/lib/python3.7/dist-packages (from catboost) (1.15.0)\n",
            "Requirement already satisfied: pytz>=2017.3 in /usr/local/lib/python3.7/dist-packages (from pandas>=0.24.0->catboost) (2022.6)\n",
            "Requirement already satisfied: python-dateutil>=2.7.3 in /usr/local/lib/python3.7/dist-packages (from pandas>=0.24.0->catboost) (2.8.2)\n",
            "Requirement already satisfied: kiwisolver>=1.0.1 in /usr/local/lib/python3.7/dist-packages (from matplotlib->catboost) (1.4.4)\n",
            "Requirement already satisfied: pyparsing!=2.0.4,!=2.1.2,!=2.1.6,>=2.0.1 in /usr/local/lib/python3.7/dist-packages (from matplotlib->catboost) (3.0.9)\n",
            "Requirement already satisfied: cycler>=0.10 in /usr/local/lib/python3.7/dist-packages (from matplotlib->catboost) (0.11.0)\n",
            "Requirement already satisfied: typing-extensions in /usr/local/lib/python3.7/dist-packages (from kiwisolver>=1.0.1->matplotlib->catboost) (4.1.1)\n",
            "Requirement already satisfied: tenacity>=6.2.0 in /usr/local/lib/python3.7/dist-packages (from plotly->catboost) (8.1.0)\n",
            "Installing collected packages: catboost\n",
            "Successfully installed catboost-1.1.1\n",
            "Looking in indexes: https://pypi.org/simple, https://us-python.pkg.dev/colab-wheels/public/simple/\n",
            "Collecting shap\n",
            "  Downloading shap-0.41.0-cp37-cp37m-manylinux_2_12_x86_64.manylinux2010_x86_64.whl (569 kB)\n",
            "\u001b[K     |████████████████████████████████| 569 kB 5.0 MB/s \n",
            "\u001b[?25hCollecting slicer==0.0.7\n",
            "  Downloading slicer-0.0.7-py3-none-any.whl (14 kB)\n",
            "Requirement already satisfied: numpy in /usr/local/lib/python3.7/dist-packages (from shap) (1.21.6)\n",
            "Requirement already satisfied: numba in /usr/local/lib/python3.7/dist-packages (from shap) (0.56.4)\n",
            "Requirement already satisfied: tqdm>4.25.0 in /usr/local/lib/python3.7/dist-packages (from shap) (4.64.1)\n",
            "Requirement already satisfied: scipy in /usr/local/lib/python3.7/dist-packages (from shap) (1.7.3)\n",
            "Requirement already satisfied: scikit-learn in /usr/local/lib/python3.7/dist-packages (from shap) (1.0.2)\n",
            "Requirement already satisfied: packaging>20.9 in /usr/local/lib/python3.7/dist-packages (from shap) (21.3)\n",
            "Requirement already satisfied: pandas in /usr/local/lib/python3.7/dist-packages (from shap) (1.3.5)\n",
            "Requirement already satisfied: cloudpickle in /usr/local/lib/python3.7/dist-packages (from shap) (1.5.0)\n",
            "Requirement already satisfied: pyparsing!=3.0.5,>=2.0.2 in /usr/local/lib/python3.7/dist-packages (from packaging>20.9->shap) (3.0.9)\n",
            "Requirement already satisfied: setuptools in /usr/local/lib/python3.7/dist-packages (from numba->shap) (57.4.0)\n",
            "Requirement already satisfied: importlib-metadata in /usr/local/lib/python3.7/dist-packages (from numba->shap) (4.13.0)\n",
            "Requirement already satisfied: llvmlite<0.40,>=0.39.0dev0 in /usr/local/lib/python3.7/dist-packages (from numba->shap) (0.39.1)\n",
            "Requirement already satisfied: zipp>=0.5 in /usr/local/lib/python3.7/dist-packages (from importlib-metadata->numba->shap) (3.10.0)\n",
            "Requirement already satisfied: typing-extensions>=3.6.4 in /usr/local/lib/python3.7/dist-packages (from importlib-metadata->numba->shap) (4.1.1)\n",
            "Requirement already satisfied: python-dateutil>=2.7.3 in /usr/local/lib/python3.7/dist-packages (from pandas->shap) (2.8.2)\n",
            "Requirement already satisfied: pytz>=2017.3 in /usr/local/lib/python3.7/dist-packages (from pandas->shap) (2022.6)\n",
            "Requirement already satisfied: six>=1.5 in /usr/local/lib/python3.7/dist-packages (from python-dateutil>=2.7.3->pandas->shap) (1.15.0)\n",
            "Requirement already satisfied: joblib>=0.11 in /usr/local/lib/python3.7/dist-packages (from scikit-learn->shap) (1.2.0)\n",
            "Requirement already satisfied: threadpoolctl>=2.0.0 in /usr/local/lib/python3.7/dist-packages (from scikit-learn->shap) (3.1.0)\n",
            "Installing collected packages: slicer, shap\n",
            "Successfully installed shap-0.41.0 slicer-0.0.7\n",
            "Looking in indexes: https://pypi.org/simple, https://us-python.pkg.dev/colab-wheels/public/simple/\n",
            "Collecting pyLDAvis\n",
            "  Downloading pyLDAvis-3.3.1.tar.gz (1.7 MB)\n",
            "\u001b[K     |████████████████████████████████| 1.7 MB 5.2 MB/s \n",
            "\u001b[?25h  Installing build dependencies ... \u001b[?25l\u001b[?25hdone\n",
            "  Getting requirements to build wheel ... \u001b[?25l\u001b[?25hdone\n",
            "  Installing backend dependencies ... \u001b[?25l\u001b[?25hdone\n",
            "    Preparing wheel metadata ... \u001b[?25l\u001b[?25hdone\n",
            "Requirement already satisfied: numpy>=1.20.0 in /usr/local/lib/python3.7/dist-packages (from pyLDAvis) (1.21.6)\n",
            "Collecting funcy\n",
            "  Downloading funcy-1.17-py2.py3-none-any.whl (33 kB)\n",
            "Requirement already satisfied: setuptools in /usr/local/lib/python3.7/dist-packages (from pyLDAvis) (57.4.0)\n",
            "Requirement already satisfied: jinja2 in /usr/local/lib/python3.7/dist-packages (from pyLDAvis) (2.11.3)\n",
            "Requirement already satisfied: numexpr in /usr/local/lib/python3.7/dist-packages (from pyLDAvis) (2.8.4)\n",
            "Requirement already satisfied: gensim in /usr/local/lib/python3.7/dist-packages (from pyLDAvis) (3.6.0)\n",
            "Collecting sklearn\n",
            "  Downloading sklearn-0.0.post1.tar.gz (3.6 kB)\n",
            "Requirement already satisfied: pandas>=1.2.0 in /usr/local/lib/python3.7/dist-packages (from pyLDAvis) (1.3.5)\n",
            "Requirement already satisfied: future in /usr/local/lib/python3.7/dist-packages (from pyLDAvis) (0.16.0)\n",
            "Requirement already satisfied: scipy in /usr/local/lib/python3.7/dist-packages (from pyLDAvis) (1.7.3)\n",
            "Requirement already satisfied: scikit-learn in /usr/local/lib/python3.7/dist-packages (from pyLDAvis) (1.0.2)\n",
            "Requirement already satisfied: joblib in /usr/local/lib/python3.7/dist-packages (from pyLDAvis) (1.2.0)\n",
            "Requirement already satisfied: pytz>=2017.3 in /usr/local/lib/python3.7/dist-packages (from pandas>=1.2.0->pyLDAvis) (2022.6)\n",
            "Requirement already satisfied: python-dateutil>=2.7.3 in /usr/local/lib/python3.7/dist-packages (from pandas>=1.2.0->pyLDAvis) (2.8.2)\n",
            "Requirement already satisfied: six>=1.5 in /usr/local/lib/python3.7/dist-packages (from python-dateutil>=2.7.3->pandas>=1.2.0->pyLDAvis) (1.15.0)\n",
            "Requirement already satisfied: smart-open>=1.2.1 in /usr/local/lib/python3.7/dist-packages (from gensim->pyLDAvis) (5.2.1)\n",
            "Requirement already satisfied: MarkupSafe>=0.23 in /usr/local/lib/python3.7/dist-packages (from jinja2->pyLDAvis) (2.0.1)\n",
            "Requirement already satisfied: threadpoolctl>=2.0.0 in /usr/local/lib/python3.7/dist-packages (from scikit-learn->pyLDAvis) (3.1.0)\n",
            "Building wheels for collected packages: pyLDAvis, sklearn\n",
            "  Building wheel for pyLDAvis (PEP 517) ... \u001b[?25l\u001b[?25hdone\n",
            "  Created wheel for pyLDAvis: filename=pyLDAvis-3.3.1-py2.py3-none-any.whl size=136898 sha256=23315c24a673ef96f717d485e2a8b5d0897df0d82c963a764fc0163e1b607a89\n",
            "  Stored in directory: /root/.cache/pip/wheels/c9/21/f6/17bcf2667e8a68532ba2fbf6d5c72fdf4c7f7d9abfa4852d2f\n",
            "  Building wheel for sklearn (setup.py) ... \u001b[?25l\u001b[?25hdone\n",
            "  Created wheel for sklearn: filename=sklearn-0.0.post1-py3-none-any.whl size=2344 sha256=94b33f219721b5284c680e8b6c752f6f2f71ad842ef8a5cd12aabeeafdf36693\n",
            "  Stored in directory: /root/.cache/pip/wheels/42/56/cc/4a8bf86613aafd5b7f1b310477667c1fca5c51c3ae4124a003\n",
            "Successfully built pyLDAvis sklearn\n",
            "Installing collected packages: sklearn, funcy, pyLDAvis\n",
            "Successfully installed funcy-1.17 pyLDAvis-3.3.1 sklearn-0.0.post1\n",
            "Looking in indexes: https://pypi.org/simple, https://us-python.pkg.dev/colab-wheels/public/simple/\n",
            "Collecting category_encoders\n",
            "  Downloading category_encoders-2.5.1.post0-py2.py3-none-any.whl (72 kB)\n",
            "\u001b[K     |████████████████████████████████| 72 kB 688 kB/s \n",
            "\u001b[?25hRequirement already satisfied: numpy>=1.14.0 in /usr/local/lib/python3.7/dist-packages (from category_encoders) (1.21.6)\n",
            "Requirement already satisfied: scikit-learn>=0.20.0 in /usr/local/lib/python3.7/dist-packages (from category_encoders) (1.0.2)\n",
            "Requirement already satisfied: pandas>=1.0.5 in /usr/local/lib/python3.7/dist-packages (from category_encoders) (1.3.5)\n",
            "Requirement already satisfied: patsy>=0.5.1 in /usr/local/lib/python3.7/dist-packages (from category_encoders) (0.5.3)\n",
            "Requirement already satisfied: statsmodels>=0.9.0 in /usr/local/lib/python3.7/dist-packages (from category_encoders) (0.12.2)\n",
            "Requirement already satisfied: scipy>=1.0.0 in /usr/local/lib/python3.7/dist-packages (from category_encoders) (1.7.3)\n",
            "Requirement already satisfied: pytz>=2017.3 in /usr/local/lib/python3.7/dist-packages (from pandas>=1.0.5->category_encoders) (2022.6)\n",
            "Requirement already satisfied: python-dateutil>=2.7.3 in /usr/local/lib/python3.7/dist-packages (from pandas>=1.0.5->category_encoders) (2.8.2)\n",
            "Requirement already satisfied: six in /usr/local/lib/python3.7/dist-packages (from patsy>=0.5.1->category_encoders) (1.15.0)\n",
            "Requirement already satisfied: threadpoolctl>=2.0.0 in /usr/local/lib/python3.7/dist-packages (from scikit-learn>=0.20.0->category_encoders) (3.1.0)\n",
            "Requirement already satisfied: joblib>=0.11 in /usr/local/lib/python3.7/dist-packages (from scikit-learn>=0.20.0->category_encoders) (1.2.0)\n",
            "Installing collected packages: category-encoders\n",
            "Successfully installed category-encoders-2.5.1.post0\n"
          ]
        }
      ]
    },
    {
      "cell_type": "code",
      "source": [
        "train = pd.read_csv('https://datahack-prod.s3.amazonaws.com/train_file/train_qWM28Yl.csv')\n",
        "test = pd.read_csv('https://datahack-prod.s3.amazonaws.com/test_file/test_zo1G9sv.csv')"
      ],
      "metadata": {
        "id": "c8DaJQFOIkct"
      },
      "execution_count": 3,
      "outputs": []
    },
    {
      "cell_type": "code",
      "source": [
        "train.head()"
      ],
      "metadata": {
        "colab": {
          "base_uri": "https://localhost:8080/",
          "height": 297
        },
        "id": "UL1gU7XwI3Oy",
        "outputId": "ad939de9-93c1-4b06-dfda-5413d7bb4d5f"
      },
      "execution_count": 4,
      "outputs": [
        {
          "output_type": "execute_result",
          "data": {
            "text/plain": [
              "  policy_id  policy_tenure  age_of_car  age_of_policyholder area_cluster  \\\n",
              "0   ID00001       0.515874        0.05             0.644231           C1   \n",
              "1   ID00002       0.672619        0.02             0.375000           C2   \n",
              "2   ID00003       0.841110        0.02             0.384615           C3   \n",
              "3   ID00004       0.900277        0.11             0.432692           C4   \n",
              "4   ID00005       0.596403        0.11             0.634615           C5   \n",
              "\n",
              "   population_density  make segment model fuel_type  ... is_brake_assist  \\\n",
              "0                4990     1       A    M1       CNG  ...              No   \n",
              "1               27003     1       A    M1       CNG  ...              No   \n",
              "2                4076     1       A    M1       CNG  ...              No   \n",
              "3               21622     1      C1    M2    Petrol  ...             Yes   \n",
              "4               34738     2       A    M3    Petrol  ...              No   \n",
              "\n",
              "  is_power_door_locks is_central_locking  is_power_steering  \\\n",
              "0                  No                 No                Yes   \n",
              "1                  No                 No                Yes   \n",
              "2                  No                 No                Yes   \n",
              "3                 Yes                Yes                Yes   \n",
              "4                 Yes                Yes                Yes   \n",
              "\n",
              "  is_driver_seat_height_adjustable is_day_night_rear_view_mirror is_ecw  \\\n",
              "0                               No                            No     No   \n",
              "1                               No                            No     No   \n",
              "2                               No                            No     No   \n",
              "3                              Yes                           Yes    Yes   \n",
              "4                               No                           Yes    Yes   \n",
              "\n",
              "  is_speed_alert ncap_rating is_claim  \n",
              "0            Yes           0        0  \n",
              "1            Yes           0        0  \n",
              "2            Yes           0        0  \n",
              "3            Yes           2        0  \n",
              "4            Yes           2        0  \n",
              "\n",
              "[5 rows x 44 columns]"
            ],
            "text/html": [
              "\n",
              "  <div id=\"df-584b5e59-613c-489a-86ff-d7d22780e747\">\n",
              "    <div class=\"colab-df-container\">\n",
              "      <div>\n",
              "<style scoped>\n",
              "    .dataframe tbody tr th:only-of-type {\n",
              "        vertical-align: middle;\n",
              "    }\n",
              "\n",
              "    .dataframe tbody tr th {\n",
              "        vertical-align: top;\n",
              "    }\n",
              "\n",
              "    .dataframe thead th {\n",
              "        text-align: right;\n",
              "    }\n",
              "</style>\n",
              "<table border=\"1\" class=\"dataframe\">\n",
              "  <thead>\n",
              "    <tr style=\"text-align: right;\">\n",
              "      <th></th>\n",
              "      <th>policy_id</th>\n",
              "      <th>policy_tenure</th>\n",
              "      <th>age_of_car</th>\n",
              "      <th>age_of_policyholder</th>\n",
              "      <th>area_cluster</th>\n",
              "      <th>population_density</th>\n",
              "      <th>make</th>\n",
              "      <th>segment</th>\n",
              "      <th>model</th>\n",
              "      <th>fuel_type</th>\n",
              "      <th>...</th>\n",
              "      <th>is_brake_assist</th>\n",
              "      <th>is_power_door_locks</th>\n",
              "      <th>is_central_locking</th>\n",
              "      <th>is_power_steering</th>\n",
              "      <th>is_driver_seat_height_adjustable</th>\n",
              "      <th>is_day_night_rear_view_mirror</th>\n",
              "      <th>is_ecw</th>\n",
              "      <th>is_speed_alert</th>\n",
              "      <th>ncap_rating</th>\n",
              "      <th>is_claim</th>\n",
              "    </tr>\n",
              "  </thead>\n",
              "  <tbody>\n",
              "    <tr>\n",
              "      <th>0</th>\n",
              "      <td>ID00001</td>\n",
              "      <td>0.515874</td>\n",
              "      <td>0.05</td>\n",
              "      <td>0.644231</td>\n",
              "      <td>C1</td>\n",
              "      <td>4990</td>\n",
              "      <td>1</td>\n",
              "      <td>A</td>\n",
              "      <td>M1</td>\n",
              "      <td>CNG</td>\n",
              "      <td>...</td>\n",
              "      <td>No</td>\n",
              "      <td>No</td>\n",
              "      <td>No</td>\n",
              "      <td>Yes</td>\n",
              "      <td>No</td>\n",
              "      <td>No</td>\n",
              "      <td>No</td>\n",
              "      <td>Yes</td>\n",
              "      <td>0</td>\n",
              "      <td>0</td>\n",
              "    </tr>\n",
              "    <tr>\n",
              "      <th>1</th>\n",
              "      <td>ID00002</td>\n",
              "      <td>0.672619</td>\n",
              "      <td>0.02</td>\n",
              "      <td>0.375000</td>\n",
              "      <td>C2</td>\n",
              "      <td>27003</td>\n",
              "      <td>1</td>\n",
              "      <td>A</td>\n",
              "      <td>M1</td>\n",
              "      <td>CNG</td>\n",
              "      <td>...</td>\n",
              "      <td>No</td>\n",
              "      <td>No</td>\n",
              "      <td>No</td>\n",
              "      <td>Yes</td>\n",
              "      <td>No</td>\n",
              "      <td>No</td>\n",
              "      <td>No</td>\n",
              "      <td>Yes</td>\n",
              "      <td>0</td>\n",
              "      <td>0</td>\n",
              "    </tr>\n",
              "    <tr>\n",
              "      <th>2</th>\n",
              "      <td>ID00003</td>\n",
              "      <td>0.841110</td>\n",
              "      <td>0.02</td>\n",
              "      <td>0.384615</td>\n",
              "      <td>C3</td>\n",
              "      <td>4076</td>\n",
              "      <td>1</td>\n",
              "      <td>A</td>\n",
              "      <td>M1</td>\n",
              "      <td>CNG</td>\n",
              "      <td>...</td>\n",
              "      <td>No</td>\n",
              "      <td>No</td>\n",
              "      <td>No</td>\n",
              "      <td>Yes</td>\n",
              "      <td>No</td>\n",
              "      <td>No</td>\n",
              "      <td>No</td>\n",
              "      <td>Yes</td>\n",
              "      <td>0</td>\n",
              "      <td>0</td>\n",
              "    </tr>\n",
              "    <tr>\n",
              "      <th>3</th>\n",
              "      <td>ID00004</td>\n",
              "      <td>0.900277</td>\n",
              "      <td>0.11</td>\n",
              "      <td>0.432692</td>\n",
              "      <td>C4</td>\n",
              "      <td>21622</td>\n",
              "      <td>1</td>\n",
              "      <td>C1</td>\n",
              "      <td>M2</td>\n",
              "      <td>Petrol</td>\n",
              "      <td>...</td>\n",
              "      <td>Yes</td>\n",
              "      <td>Yes</td>\n",
              "      <td>Yes</td>\n",
              "      <td>Yes</td>\n",
              "      <td>Yes</td>\n",
              "      <td>Yes</td>\n",
              "      <td>Yes</td>\n",
              "      <td>Yes</td>\n",
              "      <td>2</td>\n",
              "      <td>0</td>\n",
              "    </tr>\n",
              "    <tr>\n",
              "      <th>4</th>\n",
              "      <td>ID00005</td>\n",
              "      <td>0.596403</td>\n",
              "      <td>0.11</td>\n",
              "      <td>0.634615</td>\n",
              "      <td>C5</td>\n",
              "      <td>34738</td>\n",
              "      <td>2</td>\n",
              "      <td>A</td>\n",
              "      <td>M3</td>\n",
              "      <td>Petrol</td>\n",
              "      <td>...</td>\n",
              "      <td>No</td>\n",
              "      <td>Yes</td>\n",
              "      <td>Yes</td>\n",
              "      <td>Yes</td>\n",
              "      <td>No</td>\n",
              "      <td>Yes</td>\n",
              "      <td>Yes</td>\n",
              "      <td>Yes</td>\n",
              "      <td>2</td>\n",
              "      <td>0</td>\n",
              "    </tr>\n",
              "  </tbody>\n",
              "</table>\n",
              "<p>5 rows × 44 columns</p>\n",
              "</div>\n",
              "      <button class=\"colab-df-convert\" onclick=\"convertToInteractive('df-584b5e59-613c-489a-86ff-d7d22780e747')\"\n",
              "              title=\"Convert this dataframe to an interactive table.\"\n",
              "              style=\"display:none;\">\n",
              "        \n",
              "  <svg xmlns=\"http://www.w3.org/2000/svg\" height=\"24px\"viewBox=\"0 0 24 24\"\n",
              "       width=\"24px\">\n",
              "    <path d=\"M0 0h24v24H0V0z\" fill=\"none\"/>\n",
              "    <path d=\"M18.56 5.44l.94 2.06.94-2.06 2.06-.94-2.06-.94-.94-2.06-.94 2.06-2.06.94zm-11 1L8.5 8.5l.94-2.06 2.06-.94-2.06-.94L8.5 2.5l-.94 2.06-2.06.94zm10 10l.94 2.06.94-2.06 2.06-.94-2.06-.94-.94-2.06-.94 2.06-2.06.94z\"/><path d=\"M17.41 7.96l-1.37-1.37c-.4-.4-.92-.59-1.43-.59-.52 0-1.04.2-1.43.59L10.3 9.45l-7.72 7.72c-.78.78-.78 2.05 0 2.83L4 21.41c.39.39.9.59 1.41.59.51 0 1.02-.2 1.41-.59l7.78-7.78 2.81-2.81c.8-.78.8-2.07 0-2.86zM5.41 20L4 18.59l7.72-7.72 1.47 1.35L5.41 20z\"/>\n",
              "  </svg>\n",
              "      </button>\n",
              "      \n",
              "  <style>\n",
              "    .colab-df-container {\n",
              "      display:flex;\n",
              "      flex-wrap:wrap;\n",
              "      gap: 12px;\n",
              "    }\n",
              "\n",
              "    .colab-df-convert {\n",
              "      background-color: #E8F0FE;\n",
              "      border: none;\n",
              "      border-radius: 50%;\n",
              "      cursor: pointer;\n",
              "      display: none;\n",
              "      fill: #1967D2;\n",
              "      height: 32px;\n",
              "      padding: 0 0 0 0;\n",
              "      width: 32px;\n",
              "    }\n",
              "\n",
              "    .colab-df-convert:hover {\n",
              "      background-color: #E2EBFA;\n",
              "      box-shadow: 0px 1px 2px rgba(60, 64, 67, 0.3), 0px 1px 3px 1px rgba(60, 64, 67, 0.15);\n",
              "      fill: #174EA6;\n",
              "    }\n",
              "\n",
              "    [theme=dark] .colab-df-convert {\n",
              "      background-color: #3B4455;\n",
              "      fill: #D2E3FC;\n",
              "    }\n",
              "\n",
              "    [theme=dark] .colab-df-convert:hover {\n",
              "      background-color: #434B5C;\n",
              "      box-shadow: 0px 1px 3px 1px rgba(0, 0, 0, 0.15);\n",
              "      filter: drop-shadow(0px 1px 2px rgba(0, 0, 0, 0.3));\n",
              "      fill: #FFFFFF;\n",
              "    }\n",
              "  </style>\n",
              "\n",
              "      <script>\n",
              "        const buttonEl =\n",
              "          document.querySelector('#df-584b5e59-613c-489a-86ff-d7d22780e747 button.colab-df-convert');\n",
              "        buttonEl.style.display =\n",
              "          google.colab.kernel.accessAllowed ? 'block' : 'none';\n",
              "\n",
              "        async function convertToInteractive(key) {\n",
              "          const element = document.querySelector('#df-584b5e59-613c-489a-86ff-d7d22780e747');\n",
              "          const dataTable =\n",
              "            await google.colab.kernel.invokeFunction('convertToInteractive',\n",
              "                                                     [key], {});\n",
              "          if (!dataTable) return;\n",
              "\n",
              "          const docLinkHtml = 'Like what you see? Visit the ' +\n",
              "            '<a target=\"_blank\" href=https://colab.research.google.com/notebooks/data_table.ipynb>data table notebook</a>'\n",
              "            + ' to learn more about interactive tables.';\n",
              "          element.innerHTML = '';\n",
              "          dataTable['output_type'] = 'display_data';\n",
              "          await google.colab.output.renderOutput(dataTable, element);\n",
              "          const docLink = document.createElement('div');\n",
              "          docLink.innerHTML = docLinkHtml;\n",
              "          element.appendChild(docLink);\n",
              "        }\n",
              "      </script>\n",
              "    </div>\n",
              "  </div>\n",
              "  "
            ]
          },
          "metadata": {},
          "execution_count": 4
        }
      ]
    },
    {
      "cell_type": "code",
      "source": [
        "train.columns"
      ],
      "metadata": {
        "colab": {
          "base_uri": "https://localhost:8080/"
        },
        "id": "fGnSTdl2JCx0",
        "outputId": "6b6e9af7-6728-48fb-d48f-8887d43fd9f6"
      },
      "execution_count": 5,
      "outputs": [
        {
          "output_type": "execute_result",
          "data": {
            "text/plain": [
              "Index(['policy_id', 'policy_tenure', 'age_of_car', 'age_of_policyholder',\n",
              "       'area_cluster', 'population_density', 'make', 'segment', 'model',\n",
              "       'fuel_type', 'max_torque', 'max_power', 'engine_type', 'airbags',\n",
              "       'is_esc', 'is_adjustable_steering', 'is_tpms', 'is_parking_sensors',\n",
              "       'is_parking_camera', 'rear_brakes_type', 'displacement', 'cylinder',\n",
              "       'transmission_type', 'gear_box', 'steering_type', 'turning_radius',\n",
              "       'length', 'width', 'height', 'gross_weight', 'is_front_fog_lights',\n",
              "       'is_rear_window_wiper', 'is_rear_window_washer',\n",
              "       'is_rear_window_defogger', 'is_brake_assist', 'is_power_door_locks',\n",
              "       'is_central_locking', 'is_power_steering',\n",
              "       'is_driver_seat_height_adjustable', 'is_day_night_rear_view_mirror',\n",
              "       'is_ecw', 'is_speed_alert', 'ncap_rating', 'is_claim'],\n",
              "      dtype='object')"
            ]
          },
          "metadata": {},
          "execution_count": 5
        }
      ]
    },
    {
      "cell_type": "code",
      "source": [
        "train['policy_id'].duplicated().sum()"
      ],
      "metadata": {
        "colab": {
          "base_uri": "https://localhost:8080/"
        },
        "id": "UEOku3ShJSXt",
        "outputId": "29d60426-f861-41a7-b749-cd8366f8da3c"
      },
      "execution_count": 6,
      "outputs": [
        {
          "output_type": "execute_result",
          "data": {
            "text/plain": [
              "0"
            ]
          },
          "metadata": {},
          "execution_count": 6
        }
      ]
    },
    {
      "cell_type": "code",
      "source": [
        "train.shape"
      ],
      "metadata": {
        "colab": {
          "base_uri": "https://localhost:8080/"
        },
        "id": "KNftdhd8JVVu",
        "outputId": "69adeec6-6c2a-4062-ae81-ea01a4c80f07"
      },
      "execution_count": 7,
      "outputs": [
        {
          "output_type": "execute_result",
          "data": {
            "text/plain": [
              "(58592, 44)"
            ]
          },
          "metadata": {},
          "execution_count": 7
        }
      ]
    },
    {
      "cell_type": "code",
      "source": [
        "train['policy_tenure'].describe()"
      ],
      "metadata": {
        "colab": {
          "base_uri": "https://localhost:8080/"
        },
        "id": "iAVQpoSlJXus",
        "outputId": "0dfbabd8-84ed-48d1-f17b-e92ea6ae616e"
      },
      "execution_count": 8,
      "outputs": [
        {
          "output_type": "execute_result",
          "data": {
            "text/plain": [
              "count    58592.000000\n",
              "mean         0.611246\n",
              "std          0.414156\n",
              "min          0.002735\n",
              "25%          0.210250\n",
              "50%          0.573792\n",
              "75%          1.039104\n",
              "max          1.396641\n",
              "Name: policy_tenure, dtype: float64"
            ]
          },
          "metadata": {},
          "execution_count": 8
        }
      ]
    },
    {
      "cell_type": "code",
      "source": [
        "train.isnull().sum()"
      ],
      "metadata": {
        "colab": {
          "base_uri": "https://localhost:8080/"
        },
        "id": "ESRPhgwBJbhD",
        "outputId": "d5f20ce0-52eb-487b-ca21-7b0afc248d91"
      },
      "execution_count": 9,
      "outputs": [
        {
          "output_type": "execute_result",
          "data": {
            "text/plain": [
              "policy_id                           0\n",
              "policy_tenure                       0\n",
              "age_of_car                          0\n",
              "age_of_policyholder                 0\n",
              "area_cluster                        0\n",
              "population_density                  0\n",
              "make                                0\n",
              "segment                             0\n",
              "model                               0\n",
              "fuel_type                           0\n",
              "max_torque                          0\n",
              "max_power                           0\n",
              "engine_type                         0\n",
              "airbags                             0\n",
              "is_esc                              0\n",
              "is_adjustable_steering              0\n",
              "is_tpms                             0\n",
              "is_parking_sensors                  0\n",
              "is_parking_camera                   0\n",
              "rear_brakes_type                    0\n",
              "displacement                        0\n",
              "cylinder                            0\n",
              "transmission_type                   0\n",
              "gear_box                            0\n",
              "steering_type                       0\n",
              "turning_radius                      0\n",
              "length                              0\n",
              "width                               0\n",
              "height                              0\n",
              "gross_weight                        0\n",
              "is_front_fog_lights                 0\n",
              "is_rear_window_wiper                0\n",
              "is_rear_window_washer               0\n",
              "is_rear_window_defogger             0\n",
              "is_brake_assist                     0\n",
              "is_power_door_locks                 0\n",
              "is_central_locking                  0\n",
              "is_power_steering                   0\n",
              "is_driver_seat_height_adjustable    0\n",
              "is_day_night_rear_view_mirror       0\n",
              "is_ecw                              0\n",
              "is_speed_alert                      0\n",
              "ncap_rating                         0\n",
              "is_claim                            0\n",
              "dtype: int64"
            ]
          },
          "metadata": {},
          "execution_count": 9
        }
      ]
    },
    {
      "cell_type": "code",
      "source": [
        "train['age_of_car'].describe()"
      ],
      "metadata": {
        "colab": {
          "base_uri": "https://localhost:8080/"
        },
        "id": "laG7PKjiJnln",
        "outputId": "40785ebf-2c60-4e5f-e287-d4a44795f685"
      },
      "execution_count": 10,
      "outputs": [
        {
          "output_type": "execute_result",
          "data": {
            "text/plain": [
              "count    58592.000000\n",
              "mean         0.069424\n",
              "std          0.056721\n",
              "min          0.000000\n",
              "25%          0.020000\n",
              "50%          0.060000\n",
              "75%          0.110000\n",
              "max          1.000000\n",
              "Name: age_of_car, dtype: float64"
            ]
          },
          "metadata": {},
          "execution_count": 10
        }
      ]
    },
    {
      "cell_type": "code",
      "source": [
        "train['age_of_policyholder'].describe()"
      ],
      "metadata": {
        "colab": {
          "base_uri": "https://localhost:8080/"
        },
        "id": "o11BJ11KJ5IT",
        "outputId": "b0098ae4-572c-47c6-88f2-67b1b216e91d"
      },
      "execution_count": 11,
      "outputs": [
        {
          "output_type": "execute_result",
          "data": {
            "text/plain": [
              "count    58592.000000\n",
              "mean         0.469420\n",
              "std          0.122886\n",
              "min          0.288462\n",
              "25%          0.365385\n",
              "50%          0.451923\n",
              "75%          0.548077\n",
              "max          1.000000\n",
              "Name: age_of_policyholder, dtype: float64"
            ]
          },
          "metadata": {},
          "execution_count": 11
        }
      ]
    },
    {
      "cell_type": "code",
      "source": [
        "train['area_cluster'].value_counts(normalize=True)*100"
      ],
      "metadata": {
        "colab": {
          "base_uri": "https://localhost:8080/"
        },
        "id": "aAL3duAKKIkf",
        "outputId": "421be9f6-54ef-4517-d64e-a1f7d1018620"
      },
      "execution_count": 12,
      "outputs": [
        {
          "output_type": "execute_result",
          "data": {
            "text/plain": [
              "C8     23.303523\n",
              "C2     12.530721\n",
              "C5     11.911182\n",
              "C3     10.412684\n",
              "C14     6.246587\n",
              "C13     5.842094\n",
              "C10     5.384694\n",
              "C9      4.666166\n",
              "C7      3.698457\n",
              "C12     2.711974\n",
              "C1      2.505461\n",
              "C11     2.068542\n",
              "C19     1.624795\n",
              "C6      1.518979\n",
              "C15     1.315879\n",
              "C4      1.134967\n",
              "C17     0.839705\n",
              "C16     0.684394\n",
              "C21     0.646846\n",
              "C18     0.413026\n",
              "C22     0.353291\n",
              "C20     0.186032\n",
              "Name: area_cluster, dtype: float64"
            ]
          },
          "metadata": {},
          "execution_count": 12
        }
      ]
    },
    {
      "cell_type": "code",
      "source": [
        "train['population_density'].describe()"
      ],
      "metadata": {
        "colab": {
          "base_uri": "https://localhost:8080/"
        },
        "id": "AxMUZTGsKRjL",
        "outputId": "9d2fe313-e8a2-4d80-f071-59f1e350012d"
      },
      "execution_count": 13,
      "outputs": [
        {
          "output_type": "execute_result",
          "data": {
            "text/plain": [
              "count    58592.000000\n",
              "mean     18826.858667\n",
              "std      17660.174792\n",
              "min        290.000000\n",
              "25%       6112.000000\n",
              "50%       8794.000000\n",
              "75%      27003.000000\n",
              "max      73430.000000\n",
              "Name: population_density, dtype: float64"
            ]
          },
          "metadata": {},
          "execution_count": 13
        }
      ]
    },
    {
      "cell_type": "code",
      "source": [
        "train['make'].value_counts()"
      ],
      "metadata": {
        "colab": {
          "base_uri": "https://localhost:8080/"
        },
        "id": "k5M8AcpHKdWs",
        "outputId": "009cfbc2-e229-4725-abfa-81f5cfe31663"
      },
      "execution_count": 14,
      "outputs": [
        {
          "output_type": "execute_result",
          "data": {
            "text/plain": [
              "1    38126\n",
              "3    14018\n",
              "2     2373\n",
              "5     2114\n",
              "4     1961\n",
              "Name: make, dtype: int64"
            ]
          },
          "metadata": {},
          "execution_count": 14
        }
      ]
    },
    {
      "cell_type": "code",
      "source": [
        "train['segment'].value_counts()"
      ],
      "metadata": {
        "colab": {
          "base_uri": "https://localhost:8080/"
        },
        "id": "JZjd7JlOKhnf",
        "outputId": "131ecd82-ac2c-426a-f443-c8d245deaa8a"
      },
      "execution_count": 15,
      "outputs": [
        {
          "output_type": "execute_result",
          "data": {
            "text/plain": [
              "B2         18314\n",
              "A          17321\n",
              "C2         14018\n",
              "B1          4173\n",
              "C1          3557\n",
              "Utility     1209\n",
              "Name: segment, dtype: int64"
            ]
          },
          "metadata": {},
          "execution_count": 15
        }
      ]
    },
    {
      "cell_type": "code",
      "source": [
        "train.columns"
      ],
      "metadata": {
        "colab": {
          "base_uri": "https://localhost:8080/"
        },
        "id": "7VCpLupFKm7V",
        "outputId": "05e257fc-1c6f-4c6c-f3a0-41576a4a3daf"
      },
      "execution_count": 16,
      "outputs": [
        {
          "output_type": "execute_result",
          "data": {
            "text/plain": [
              "Index(['policy_id', 'policy_tenure', 'age_of_car', 'age_of_policyholder',\n",
              "       'area_cluster', 'population_density', 'make', 'segment', 'model',\n",
              "       'fuel_type', 'max_torque', 'max_power', 'engine_type', 'airbags',\n",
              "       'is_esc', 'is_adjustable_steering', 'is_tpms', 'is_parking_sensors',\n",
              "       'is_parking_camera', 'rear_brakes_type', 'displacement', 'cylinder',\n",
              "       'transmission_type', 'gear_box', 'steering_type', 'turning_radius',\n",
              "       'length', 'width', 'height', 'gross_weight', 'is_front_fog_lights',\n",
              "       'is_rear_window_wiper', 'is_rear_window_washer',\n",
              "       'is_rear_window_defogger', 'is_brake_assist', 'is_power_door_locks',\n",
              "       'is_central_locking', 'is_power_steering',\n",
              "       'is_driver_seat_height_adjustable', 'is_day_night_rear_view_mirror',\n",
              "       'is_ecw', 'is_speed_alert', 'ncap_rating', 'is_claim'],\n",
              "      dtype='object')"
            ]
          },
          "metadata": {},
          "execution_count": 16
        }
      ]
    },
    {
      "cell_type": "code",
      "source": [
        "train['model'].value_counts()"
      ],
      "metadata": {
        "colab": {
          "base_uri": "https://localhost:8080/"
        },
        "id": "7hgrgNcaKuWI",
        "outputId": "c4775371-e7c3-424e-84e3-60c04c9a332a"
      },
      "execution_count": 17,
      "outputs": [
        {
          "output_type": "execute_result",
          "data": {
            "text/plain": [
              "M1     14948\n",
              "M4     14018\n",
              "M6     13776\n",
              "M8      4173\n",
              "M7      2940\n",
              "M3      2373\n",
              "M9      2114\n",
              "M5      1598\n",
              "M10     1209\n",
              "M2      1080\n",
              "M11      363\n",
              "Name: model, dtype: int64"
            ]
          },
          "metadata": {},
          "execution_count": 17
        }
      ]
    },
    {
      "cell_type": "code",
      "source": [
        "train['fuel_type'].value_counts()"
      ],
      "metadata": {
        "colab": {
          "base_uri": "https://localhost:8080/"
        },
        "id": "sVKBe4PbKyOj",
        "outputId": "9038e872-2e1b-4bbd-9610-17435a2a1e42"
      },
      "execution_count": 18,
      "outputs": [
        {
          "output_type": "execute_result",
          "data": {
            "text/plain": [
              "Petrol    20532\n",
              "CNG       20330\n",
              "Diesel    17730\n",
              "Name: fuel_type, dtype: int64"
            ]
          },
          "metadata": {},
          "execution_count": 18
        }
      ]
    },
    {
      "cell_type": "code",
      "source": [
        "train['is_claim'].value_counts(normalize=True)"
      ],
      "metadata": {
        "colab": {
          "base_uri": "https://localhost:8080/"
        },
        "id": "55DlElB6K3O8",
        "outputId": "a4ffd66b-5549-40b2-9e09-fcb45f52102b"
      },
      "execution_count": 19,
      "outputs": [
        {
          "output_type": "execute_result",
          "data": {
            "text/plain": [
              "0    0.936032\n",
              "1    0.063968\n",
              "Name: is_claim, dtype: float64"
            ]
          },
          "metadata": {},
          "execution_count": 19
        }
      ]
    },
    {
      "cell_type": "code",
      "source": [
        "import pandas as pd\n",
        "import numpy as np\n",
        "from catboost import CatBoostClassifier\n",
        "from sklearn.metrics import f1_score\n",
        "from sklearn.feature_extraction.text import CountVectorizer, TfidfVectorizer\n",
        "from sklearn.decomposition import LatentDirichletAllocation as LDA\n",
        "import pyLDAvis.sklearn\n",
        "from itertools import combinations\n",
        "from category_encoders import * \n",
        "from sklearn.model_selection import train_test_split"
      ],
      "metadata": {
        "id": "O162d87ULbjZ",
        "colab": {
          "base_uri": "https://localhost:8080/"
        },
        "outputId": "27fb737b-f658-4adf-c485-3ff6bfbb24f3"
      },
      "execution_count": 20,
      "outputs": [
        {
          "output_type": "stream",
          "name": "stderr",
          "text": [
            "/usr/local/lib/python3.7/dist-packages/past/types/oldstr.py:5: DeprecationWarning: Using or importing the ABCs from 'collections' instead of from 'collections.abc' is deprecated since Python 3.3,and in 3.9 it will stop working\n",
            "  from collections import Iterable\n",
            "/usr/local/lib/python3.7/dist-packages/past/builtins/misc.py:4: DeprecationWarning: Using or importing the ABCs from 'collections' instead of from 'collections.abc' is deprecated since Python 3.3,and in 3.9 it will stop working\n",
            "  from collections import Mapping\n"
          ]
        }
      ]
    },
    {
      "cell_type": "code",
      "source": [
        "train.dtypes"
      ],
      "metadata": {
        "colab": {
          "base_uri": "https://localhost:8080/"
        },
        "id": "QoebP9EoL1Cp",
        "outputId": "749fdad6-42ce-4185-b9b1-f067b5669166"
      },
      "execution_count": 21,
      "outputs": [
        {
          "output_type": "execute_result",
          "data": {
            "text/plain": [
              "policy_id                            object\n",
              "policy_tenure                       float64\n",
              "age_of_car                          float64\n",
              "age_of_policyholder                 float64\n",
              "area_cluster                         object\n",
              "population_density                    int64\n",
              "make                                  int64\n",
              "segment                              object\n",
              "model                                object\n",
              "fuel_type                            object\n",
              "max_torque                           object\n",
              "max_power                            object\n",
              "engine_type                          object\n",
              "airbags                               int64\n",
              "is_esc                               object\n",
              "is_adjustable_steering               object\n",
              "is_tpms                              object\n",
              "is_parking_sensors                   object\n",
              "is_parking_camera                    object\n",
              "rear_brakes_type                     object\n",
              "displacement                          int64\n",
              "cylinder                              int64\n",
              "transmission_type                    object\n",
              "gear_box                              int64\n",
              "steering_type                        object\n",
              "turning_radius                      float64\n",
              "length                                int64\n",
              "width                                 int64\n",
              "height                                int64\n",
              "gross_weight                          int64\n",
              "is_front_fog_lights                  object\n",
              "is_rear_window_wiper                 object\n",
              "is_rear_window_washer                object\n",
              "is_rear_window_defogger              object\n",
              "is_brake_assist                      object\n",
              "is_power_door_locks                  object\n",
              "is_central_locking                   object\n",
              "is_power_steering                    object\n",
              "is_driver_seat_height_adjustable     object\n",
              "is_day_night_rear_view_mirror        object\n",
              "is_ecw                               object\n",
              "is_speed_alert                       object\n",
              "ncap_rating                           int64\n",
              "is_claim                              int64\n",
              "dtype: object"
            ]
          },
          "metadata": {},
          "execution_count": 21
        }
      ]
    },
    {
      "cell_type": "code",
      "source": [
        "X = train.drop(columns = ['policy_id', 'is_claim'])\n",
        "y = train['is_claim']"
      ],
      "metadata": {
        "id": "6nWEjrOwMSaV"
      },
      "execution_count": 22,
      "outputs": []
    },
    {
      "cell_type": "code",
      "source": [
        "X"
      ],
      "metadata": {
        "colab": {
          "base_uri": "https://localhost:8080/",
          "height": 483
        },
        "id": "nI5VJdGAMgMO",
        "outputId": "c74d987d-310b-44c3-abd8-4eb8bc34056d"
      },
      "execution_count": 23,
      "outputs": [
        {
          "output_type": "execute_result",
          "data": {
            "text/plain": [
              "       policy_tenure  age_of_car  age_of_policyholder area_cluster  \\\n",
              "0           0.515874        0.05             0.644231           C1   \n",
              "1           0.672619        0.02             0.375000           C2   \n",
              "2           0.841110        0.02             0.384615           C3   \n",
              "3           0.900277        0.11             0.432692           C4   \n",
              "4           0.596403        0.11             0.634615           C5   \n",
              "...              ...         ...                  ...          ...   \n",
              "58587       0.355089        0.13             0.644231           C8   \n",
              "58588       1.199642        0.02             0.519231          C14   \n",
              "58589       1.162273        0.05             0.451923           C5   \n",
              "58590       1.236307        0.14             0.557692           C8   \n",
              "58591       0.124429        0.02             0.442308           C8   \n",
              "\n",
              "       population_density  make segment model fuel_type     max_torque  ...  \\\n",
              "0                    4990     1       A    M1       CNG   60Nm@3500rpm  ...   \n",
              "1                   27003     1       A    M1       CNG   60Nm@3500rpm  ...   \n",
              "2                    4076     1       A    M1       CNG   60Nm@3500rpm  ...   \n",
              "3                   21622     1      C1    M2    Petrol  113Nm@4400rpm  ...   \n",
              "4                   34738     2       A    M3    Petrol   91Nm@4250rpm  ...   \n",
              "...                   ...   ...     ...   ...       ...            ...  ...   \n",
              "58587                8794     2       A    M3    Petrol   91Nm@4250rpm  ...   \n",
              "58588                7788     1       A    M1       CNG   60Nm@3500rpm  ...   \n",
              "58589               34738     1       A    M1       CNG   60Nm@3500rpm  ...   \n",
              "58590                8794     1      B2    M6    Petrol  113Nm@4400rpm  ...   \n",
              "58591                8794     3      C2    M4    Diesel  250Nm@2750rpm  ...   \n",
              "\n",
              "      is_rear_window_defogger is_brake_assist  is_power_door_locks  \\\n",
              "0                          No              No                   No   \n",
              "1                          No              No                   No   \n",
              "2                          No              No                   No   \n",
              "3                         Yes             Yes                  Yes   \n",
              "4                          No              No                  Yes   \n",
              "...                       ...             ...                  ...   \n",
              "58587                      No              No                  Yes   \n",
              "58588                      No              No                   No   \n",
              "58589                      No              No                   No   \n",
              "58590                      No             Yes                  Yes   \n",
              "58591                     Yes             Yes                  Yes   \n",
              "\n",
              "      is_central_locking is_power_steering is_driver_seat_height_adjustable  \\\n",
              "0                     No               Yes                               No   \n",
              "1                     No               Yes                               No   \n",
              "2                     No               Yes                               No   \n",
              "3                    Yes               Yes                              Yes   \n",
              "4                    Yes               Yes                               No   \n",
              "...                  ...               ...                              ...   \n",
              "58587                Yes               Yes                               No   \n",
              "58588                 No               Yes                               No   \n",
              "58589                 No               Yes                               No   \n",
              "58590                Yes               Yes                              Yes   \n",
              "58591                Yes               Yes                              Yes   \n",
              "\n",
              "      is_day_night_rear_view_mirror is_ecw is_speed_alert  ncap_rating  \n",
              "0                                No     No            Yes            0  \n",
              "1                                No     No            Yes            0  \n",
              "2                                No     No            Yes            0  \n",
              "3                               Yes    Yes            Yes            2  \n",
              "4                               Yes    Yes            Yes            2  \n",
              "...                             ...    ...            ...          ...  \n",
              "58587                           Yes    Yes            Yes            2  \n",
              "58588                            No     No            Yes            0  \n",
              "58589                            No     No            Yes            0  \n",
              "58590                           Yes    Yes            Yes            2  \n",
              "58591                            No    Yes            Yes            3  \n",
              "\n",
              "[58592 rows x 42 columns]"
            ],
            "text/html": [
              "\n",
              "  <div id=\"df-6ed43359-1f9f-4cb4-9d49-56cb6c66b267\">\n",
              "    <div class=\"colab-df-container\">\n",
              "      <div>\n",
              "<style scoped>\n",
              "    .dataframe tbody tr th:only-of-type {\n",
              "        vertical-align: middle;\n",
              "    }\n",
              "\n",
              "    .dataframe tbody tr th {\n",
              "        vertical-align: top;\n",
              "    }\n",
              "\n",
              "    .dataframe thead th {\n",
              "        text-align: right;\n",
              "    }\n",
              "</style>\n",
              "<table border=\"1\" class=\"dataframe\">\n",
              "  <thead>\n",
              "    <tr style=\"text-align: right;\">\n",
              "      <th></th>\n",
              "      <th>policy_tenure</th>\n",
              "      <th>age_of_car</th>\n",
              "      <th>age_of_policyholder</th>\n",
              "      <th>area_cluster</th>\n",
              "      <th>population_density</th>\n",
              "      <th>make</th>\n",
              "      <th>segment</th>\n",
              "      <th>model</th>\n",
              "      <th>fuel_type</th>\n",
              "      <th>max_torque</th>\n",
              "      <th>...</th>\n",
              "      <th>is_rear_window_defogger</th>\n",
              "      <th>is_brake_assist</th>\n",
              "      <th>is_power_door_locks</th>\n",
              "      <th>is_central_locking</th>\n",
              "      <th>is_power_steering</th>\n",
              "      <th>is_driver_seat_height_adjustable</th>\n",
              "      <th>is_day_night_rear_view_mirror</th>\n",
              "      <th>is_ecw</th>\n",
              "      <th>is_speed_alert</th>\n",
              "      <th>ncap_rating</th>\n",
              "    </tr>\n",
              "  </thead>\n",
              "  <tbody>\n",
              "    <tr>\n",
              "      <th>0</th>\n",
              "      <td>0.515874</td>\n",
              "      <td>0.05</td>\n",
              "      <td>0.644231</td>\n",
              "      <td>C1</td>\n",
              "      <td>4990</td>\n",
              "      <td>1</td>\n",
              "      <td>A</td>\n",
              "      <td>M1</td>\n",
              "      <td>CNG</td>\n",
              "      <td>60Nm@3500rpm</td>\n",
              "      <td>...</td>\n",
              "      <td>No</td>\n",
              "      <td>No</td>\n",
              "      <td>No</td>\n",
              "      <td>No</td>\n",
              "      <td>Yes</td>\n",
              "      <td>No</td>\n",
              "      <td>No</td>\n",
              "      <td>No</td>\n",
              "      <td>Yes</td>\n",
              "      <td>0</td>\n",
              "    </tr>\n",
              "    <tr>\n",
              "      <th>1</th>\n",
              "      <td>0.672619</td>\n",
              "      <td>0.02</td>\n",
              "      <td>0.375000</td>\n",
              "      <td>C2</td>\n",
              "      <td>27003</td>\n",
              "      <td>1</td>\n",
              "      <td>A</td>\n",
              "      <td>M1</td>\n",
              "      <td>CNG</td>\n",
              "      <td>60Nm@3500rpm</td>\n",
              "      <td>...</td>\n",
              "      <td>No</td>\n",
              "      <td>No</td>\n",
              "      <td>No</td>\n",
              "      <td>No</td>\n",
              "      <td>Yes</td>\n",
              "      <td>No</td>\n",
              "      <td>No</td>\n",
              "      <td>No</td>\n",
              "      <td>Yes</td>\n",
              "      <td>0</td>\n",
              "    </tr>\n",
              "    <tr>\n",
              "      <th>2</th>\n",
              "      <td>0.841110</td>\n",
              "      <td>0.02</td>\n",
              "      <td>0.384615</td>\n",
              "      <td>C3</td>\n",
              "      <td>4076</td>\n",
              "      <td>1</td>\n",
              "      <td>A</td>\n",
              "      <td>M1</td>\n",
              "      <td>CNG</td>\n",
              "      <td>60Nm@3500rpm</td>\n",
              "      <td>...</td>\n",
              "      <td>No</td>\n",
              "      <td>No</td>\n",
              "      <td>No</td>\n",
              "      <td>No</td>\n",
              "      <td>Yes</td>\n",
              "      <td>No</td>\n",
              "      <td>No</td>\n",
              "      <td>No</td>\n",
              "      <td>Yes</td>\n",
              "      <td>0</td>\n",
              "    </tr>\n",
              "    <tr>\n",
              "      <th>3</th>\n",
              "      <td>0.900277</td>\n",
              "      <td>0.11</td>\n",
              "      <td>0.432692</td>\n",
              "      <td>C4</td>\n",
              "      <td>21622</td>\n",
              "      <td>1</td>\n",
              "      <td>C1</td>\n",
              "      <td>M2</td>\n",
              "      <td>Petrol</td>\n",
              "      <td>113Nm@4400rpm</td>\n",
              "      <td>...</td>\n",
              "      <td>Yes</td>\n",
              "      <td>Yes</td>\n",
              "      <td>Yes</td>\n",
              "      <td>Yes</td>\n",
              "      <td>Yes</td>\n",
              "      <td>Yes</td>\n",
              "      <td>Yes</td>\n",
              "      <td>Yes</td>\n",
              "      <td>Yes</td>\n",
              "      <td>2</td>\n",
              "    </tr>\n",
              "    <tr>\n",
              "      <th>4</th>\n",
              "      <td>0.596403</td>\n",
              "      <td>0.11</td>\n",
              "      <td>0.634615</td>\n",
              "      <td>C5</td>\n",
              "      <td>34738</td>\n",
              "      <td>2</td>\n",
              "      <td>A</td>\n",
              "      <td>M3</td>\n",
              "      <td>Petrol</td>\n",
              "      <td>91Nm@4250rpm</td>\n",
              "      <td>...</td>\n",
              "      <td>No</td>\n",
              "      <td>No</td>\n",
              "      <td>Yes</td>\n",
              "      <td>Yes</td>\n",
              "      <td>Yes</td>\n",
              "      <td>No</td>\n",
              "      <td>Yes</td>\n",
              "      <td>Yes</td>\n",
              "      <td>Yes</td>\n",
              "      <td>2</td>\n",
              "    </tr>\n",
              "    <tr>\n",
              "      <th>...</th>\n",
              "      <td>...</td>\n",
              "      <td>...</td>\n",
              "      <td>...</td>\n",
              "      <td>...</td>\n",
              "      <td>...</td>\n",
              "      <td>...</td>\n",
              "      <td>...</td>\n",
              "      <td>...</td>\n",
              "      <td>...</td>\n",
              "      <td>...</td>\n",
              "      <td>...</td>\n",
              "      <td>...</td>\n",
              "      <td>...</td>\n",
              "      <td>...</td>\n",
              "      <td>...</td>\n",
              "      <td>...</td>\n",
              "      <td>...</td>\n",
              "      <td>...</td>\n",
              "      <td>...</td>\n",
              "      <td>...</td>\n",
              "      <td>...</td>\n",
              "    </tr>\n",
              "    <tr>\n",
              "      <th>58587</th>\n",
              "      <td>0.355089</td>\n",
              "      <td>0.13</td>\n",
              "      <td>0.644231</td>\n",
              "      <td>C8</td>\n",
              "      <td>8794</td>\n",
              "      <td>2</td>\n",
              "      <td>A</td>\n",
              "      <td>M3</td>\n",
              "      <td>Petrol</td>\n",
              "      <td>91Nm@4250rpm</td>\n",
              "      <td>...</td>\n",
              "      <td>No</td>\n",
              "      <td>No</td>\n",
              "      <td>Yes</td>\n",
              "      <td>Yes</td>\n",
              "      <td>Yes</td>\n",
              "      <td>No</td>\n",
              "      <td>Yes</td>\n",
              "      <td>Yes</td>\n",
              "      <td>Yes</td>\n",
              "      <td>2</td>\n",
              "    </tr>\n",
              "    <tr>\n",
              "      <th>58588</th>\n",
              "      <td>1.199642</td>\n",
              "      <td>0.02</td>\n",
              "      <td>0.519231</td>\n",
              "      <td>C14</td>\n",
              "      <td>7788</td>\n",
              "      <td>1</td>\n",
              "      <td>A</td>\n",
              "      <td>M1</td>\n",
              "      <td>CNG</td>\n",
              "      <td>60Nm@3500rpm</td>\n",
              "      <td>...</td>\n",
              "      <td>No</td>\n",
              "      <td>No</td>\n",
              "      <td>No</td>\n",
              "      <td>No</td>\n",
              "      <td>Yes</td>\n",
              "      <td>No</td>\n",
              "      <td>No</td>\n",
              "      <td>No</td>\n",
              "      <td>Yes</td>\n",
              "      <td>0</td>\n",
              "    </tr>\n",
              "    <tr>\n",
              "      <th>58589</th>\n",
              "      <td>1.162273</td>\n",
              "      <td>0.05</td>\n",
              "      <td>0.451923</td>\n",
              "      <td>C5</td>\n",
              "      <td>34738</td>\n",
              "      <td>1</td>\n",
              "      <td>A</td>\n",
              "      <td>M1</td>\n",
              "      <td>CNG</td>\n",
              "      <td>60Nm@3500rpm</td>\n",
              "      <td>...</td>\n",
              "      <td>No</td>\n",
              "      <td>No</td>\n",
              "      <td>No</td>\n",
              "      <td>No</td>\n",
              "      <td>Yes</td>\n",
              "      <td>No</td>\n",
              "      <td>No</td>\n",
              "      <td>No</td>\n",
              "      <td>Yes</td>\n",
              "      <td>0</td>\n",
              "    </tr>\n",
              "    <tr>\n",
              "      <th>58590</th>\n",
              "      <td>1.236307</td>\n",
              "      <td>0.14</td>\n",
              "      <td>0.557692</td>\n",
              "      <td>C8</td>\n",
              "      <td>8794</td>\n",
              "      <td>1</td>\n",
              "      <td>B2</td>\n",
              "      <td>M6</td>\n",
              "      <td>Petrol</td>\n",
              "      <td>113Nm@4400rpm</td>\n",
              "      <td>...</td>\n",
              "      <td>No</td>\n",
              "      <td>Yes</td>\n",
              "      <td>Yes</td>\n",
              "      <td>Yes</td>\n",
              "      <td>Yes</td>\n",
              "      <td>Yes</td>\n",
              "      <td>Yes</td>\n",
              "      <td>Yes</td>\n",
              "      <td>Yes</td>\n",
              "      <td>2</td>\n",
              "    </tr>\n",
              "    <tr>\n",
              "      <th>58591</th>\n",
              "      <td>0.124429</td>\n",
              "      <td>0.02</td>\n",
              "      <td>0.442308</td>\n",
              "      <td>C8</td>\n",
              "      <td>8794</td>\n",
              "      <td>3</td>\n",
              "      <td>C2</td>\n",
              "      <td>M4</td>\n",
              "      <td>Diesel</td>\n",
              "      <td>250Nm@2750rpm</td>\n",
              "      <td>...</td>\n",
              "      <td>Yes</td>\n",
              "      <td>Yes</td>\n",
              "      <td>Yes</td>\n",
              "      <td>Yes</td>\n",
              "      <td>Yes</td>\n",
              "      <td>Yes</td>\n",
              "      <td>No</td>\n",
              "      <td>Yes</td>\n",
              "      <td>Yes</td>\n",
              "      <td>3</td>\n",
              "    </tr>\n",
              "  </tbody>\n",
              "</table>\n",
              "<p>58592 rows × 42 columns</p>\n",
              "</div>\n",
              "      <button class=\"colab-df-convert\" onclick=\"convertToInteractive('df-6ed43359-1f9f-4cb4-9d49-56cb6c66b267')\"\n",
              "              title=\"Convert this dataframe to an interactive table.\"\n",
              "              style=\"display:none;\">\n",
              "        \n",
              "  <svg xmlns=\"http://www.w3.org/2000/svg\" height=\"24px\"viewBox=\"0 0 24 24\"\n",
              "       width=\"24px\">\n",
              "    <path d=\"M0 0h24v24H0V0z\" fill=\"none\"/>\n",
              "    <path d=\"M18.56 5.44l.94 2.06.94-2.06 2.06-.94-2.06-.94-.94-2.06-.94 2.06-2.06.94zm-11 1L8.5 8.5l.94-2.06 2.06-.94-2.06-.94L8.5 2.5l-.94 2.06-2.06.94zm10 10l.94 2.06.94-2.06 2.06-.94-2.06-.94-.94-2.06-.94 2.06-2.06.94z\"/><path d=\"M17.41 7.96l-1.37-1.37c-.4-.4-.92-.59-1.43-.59-.52 0-1.04.2-1.43.59L10.3 9.45l-7.72 7.72c-.78.78-.78 2.05 0 2.83L4 21.41c.39.39.9.59 1.41.59.51 0 1.02-.2 1.41-.59l7.78-7.78 2.81-2.81c.8-.78.8-2.07 0-2.86zM5.41 20L4 18.59l7.72-7.72 1.47 1.35L5.41 20z\"/>\n",
              "  </svg>\n",
              "      </button>\n",
              "      \n",
              "  <style>\n",
              "    .colab-df-container {\n",
              "      display:flex;\n",
              "      flex-wrap:wrap;\n",
              "      gap: 12px;\n",
              "    }\n",
              "\n",
              "    .colab-df-convert {\n",
              "      background-color: #E8F0FE;\n",
              "      border: none;\n",
              "      border-radius: 50%;\n",
              "      cursor: pointer;\n",
              "      display: none;\n",
              "      fill: #1967D2;\n",
              "      height: 32px;\n",
              "      padding: 0 0 0 0;\n",
              "      width: 32px;\n",
              "    }\n",
              "\n",
              "    .colab-df-convert:hover {\n",
              "      background-color: #E2EBFA;\n",
              "      box-shadow: 0px 1px 2px rgba(60, 64, 67, 0.3), 0px 1px 3px 1px rgba(60, 64, 67, 0.15);\n",
              "      fill: #174EA6;\n",
              "    }\n",
              "\n",
              "    [theme=dark] .colab-df-convert {\n",
              "      background-color: #3B4455;\n",
              "      fill: #D2E3FC;\n",
              "    }\n",
              "\n",
              "    [theme=dark] .colab-df-convert:hover {\n",
              "      background-color: #434B5C;\n",
              "      box-shadow: 0px 1px 3px 1px rgba(0, 0, 0, 0.15);\n",
              "      filter: drop-shadow(0px 1px 2px rgba(0, 0, 0, 0.3));\n",
              "      fill: #FFFFFF;\n",
              "    }\n",
              "  </style>\n",
              "\n",
              "      <script>\n",
              "        const buttonEl =\n",
              "          document.querySelector('#df-6ed43359-1f9f-4cb4-9d49-56cb6c66b267 button.colab-df-convert');\n",
              "        buttonEl.style.display =\n",
              "          google.colab.kernel.accessAllowed ? 'block' : 'none';\n",
              "\n",
              "        async function convertToInteractive(key) {\n",
              "          const element = document.querySelector('#df-6ed43359-1f9f-4cb4-9d49-56cb6c66b267');\n",
              "          const dataTable =\n",
              "            await google.colab.kernel.invokeFunction('convertToInteractive',\n",
              "                                                     [key], {});\n",
              "          if (!dataTable) return;\n",
              "\n",
              "          const docLinkHtml = 'Like what you see? Visit the ' +\n",
              "            '<a target=\"_blank\" href=https://colab.research.google.com/notebooks/data_table.ipynb>data table notebook</a>'\n",
              "            + ' to learn more about interactive tables.';\n",
              "          element.innerHTML = '';\n",
              "          dataTable['output_type'] = 'display_data';\n",
              "          await google.colab.output.renderOutput(dataTable, element);\n",
              "          const docLink = document.createElement('div');\n",
              "          docLink.innerHTML = docLinkHtml;\n",
              "          element.appendChild(docLink);\n",
              "        }\n",
              "      </script>\n",
              "    </div>\n",
              "  </div>\n",
              "  "
            ]
          },
          "metadata": {},
          "execution_count": 23
        }
      ]
    },
    {
      "cell_type": "code",
      "source": [
        "cat_features = X.select_dtypes(include = 'object').columns.tolist()"
      ],
      "metadata": {
        "id": "tUDhO4eXMwF_"
      },
      "execution_count": 24,
      "outputs": []
    },
    {
      "cell_type": "code",
      "source": [
        "for col in cat_features:\n",
        "  print(train[col].nunique())"
      ],
      "metadata": {
        "colab": {
          "base_uri": "https://localhost:8080/"
        },
        "id": "OKWIy2QSMgZc",
        "outputId": "775824e7-1739-4e55-9101-113bdee12462"
      },
      "execution_count": 25,
      "outputs": [
        {
          "output_type": "stream",
          "name": "stdout",
          "text": [
            "22\n",
            "6\n",
            "11\n",
            "3\n",
            "9\n",
            "9\n",
            "11\n",
            "2\n",
            "2\n",
            "2\n",
            "2\n",
            "2\n",
            "2\n",
            "2\n",
            "3\n",
            "2\n",
            "2\n",
            "2\n",
            "2\n",
            "2\n",
            "2\n",
            "2\n",
            "2\n",
            "2\n",
            "2\n",
            "2\n",
            "2\n"
          ]
        }
      ]
    },
    {
      "cell_type": "code",
      "source": [
        "X_train, X_test, y_train, y_test = train_test_split(X,y, test_size =0.2, stratify = y,random_state=42)"
      ],
      "metadata": {
        "id": "NrIr_lWRMopx"
      },
      "execution_count": 26,
      "outputs": []
    },
    {
      "cell_type": "code",
      "source": [
        "y_train.value_counts()"
      ],
      "metadata": {
        "colab": {
          "base_uri": "https://localhost:8080/"
        },
        "id": "FtW1WBdXN_9a",
        "outputId": "a9228500-7d9a-4060-8e7f-60836ef13d9b"
      },
      "execution_count": 27,
      "outputs": [
        {
          "output_type": "execute_result",
          "data": {
            "text/plain": [
              "0    43875\n",
              "1     2998\n",
              "Name: is_claim, dtype: int64"
            ]
          },
          "metadata": {},
          "execution_count": 27
        }
      ]
    },
    {
      "cell_type": "code",
      "source": [
        "43875/ 2998"
      ],
      "metadata": {
        "colab": {
          "base_uri": "https://localhost:8080/"
        },
        "id": "rqhBoKzkOHpE",
        "outputId": "a40da15f-7b64-425a-b6a9-a9c98a8a8354"
      },
      "execution_count": 28,
      "outputs": [
        {
          "output_type": "execute_result",
          "data": {
            "text/plain": [
              "14.634756504336224"
            ]
          },
          "metadata": {},
          "execution_count": 28
        }
      ]
    },
    {
      "cell_type": "code",
      "source": [
        "from numpy import argmax\n",
        "from sklearn.datasets import make_classification\n",
        "from sklearn.metrics import precision_recall_curve\n",
        "from matplotlib import pyplot"
      ],
      "metadata": {
        "id": "pNhygypY8nCF"
      },
      "execution_count": 29,
      "outputs": []
    },
    {
      "cell_type": "code",
      "source": [
        "import shap"
      ],
      "metadata": {
        "id": "vpdWdVusNwGY"
      },
      "execution_count": 30,
      "outputs": []
    },
    {
      "cell_type": "code",
      "source": [
        "from sklearn.model_selection import StratifiedKFold"
      ],
      "metadata": {
        "id": "1EhPz0HEQkU5"
      },
      "execution_count": 31,
      "outputs": []
    },
    {
      "cell_type": "code",
      "source": [
        "train.columns"
      ],
      "metadata": {
        "colab": {
          "base_uri": "https://localhost:8080/"
        },
        "id": "1tAW6GjJRHRp",
        "outputId": "6965c7ae-adbd-404b-bc4e-18c987aa6453"
      },
      "execution_count": 32,
      "outputs": [
        {
          "output_type": "execute_result",
          "data": {
            "text/plain": [
              "Index(['policy_id', 'policy_tenure', 'age_of_car', 'age_of_policyholder',\n",
              "       'area_cluster', 'population_density', 'make', 'segment', 'model',\n",
              "       'fuel_type', 'max_torque', 'max_power', 'engine_type', 'airbags',\n",
              "       'is_esc', 'is_adjustable_steering', 'is_tpms', 'is_parking_sensors',\n",
              "       'is_parking_camera', 'rear_brakes_type', 'displacement', 'cylinder',\n",
              "       'transmission_type', 'gear_box', 'steering_type', 'turning_radius',\n",
              "       'length', 'width', 'height', 'gross_weight', 'is_front_fog_lights',\n",
              "       'is_rear_window_wiper', 'is_rear_window_washer',\n",
              "       'is_rear_window_defogger', 'is_brake_assist', 'is_power_door_locks',\n",
              "       'is_central_locking', 'is_power_steering',\n",
              "       'is_driver_seat_height_adjustable', 'is_day_night_rear_view_mirror',\n",
              "       'is_ecw', 'is_speed_alert', 'ncap_rating', 'is_claim'],\n",
              "      dtype='object')"
            ]
          },
          "metadata": {},
          "execution_count": 32
        }
      ]
    },
    {
      "cell_type": "code",
      "source": [
        "train.pivot_table(index = 'model', columns = ['fuel_type'], aggfunc = 'size')"
      ],
      "metadata": {
        "colab": {
          "base_uri": "https://localhost:8080/",
          "height": 421
        },
        "id": "zC9eKcv5xqD2",
        "outputId": "614a40fe-0430-4e54-cde9-67942ccc52f0"
      },
      "execution_count": 33,
      "outputs": [
        {
          "output_type": "execute_result",
          "data": {
            "text/plain": [
              "fuel_type      CNG   Diesel   Petrol\n",
              "model                               \n",
              "M1         14948.0      NaN      NaN\n",
              "M10         1209.0      NaN      NaN\n",
              "M11            NaN      NaN    363.0\n",
              "M2             NaN      NaN   1080.0\n",
              "M3             NaN      NaN   2373.0\n",
              "M4             NaN  14018.0      NaN\n",
              "M5             NaN   1598.0      NaN\n",
              "M6             NaN      NaN  13776.0\n",
              "M7             NaN      NaN   2940.0\n",
              "M8          4173.0      NaN      NaN\n",
              "M9             NaN   2114.0      NaN"
            ],
            "text/html": [
              "\n",
              "  <div id=\"df-010d1476-d6a9-4d44-98f0-b3f858939e71\">\n",
              "    <div class=\"colab-df-container\">\n",
              "      <div>\n",
              "<style scoped>\n",
              "    .dataframe tbody tr th:only-of-type {\n",
              "        vertical-align: middle;\n",
              "    }\n",
              "\n",
              "    .dataframe tbody tr th {\n",
              "        vertical-align: top;\n",
              "    }\n",
              "\n",
              "    .dataframe thead th {\n",
              "        text-align: right;\n",
              "    }\n",
              "</style>\n",
              "<table border=\"1\" class=\"dataframe\">\n",
              "  <thead>\n",
              "    <tr style=\"text-align: right;\">\n",
              "      <th>fuel_type</th>\n",
              "      <th>CNG</th>\n",
              "      <th>Diesel</th>\n",
              "      <th>Petrol</th>\n",
              "    </tr>\n",
              "    <tr>\n",
              "      <th>model</th>\n",
              "      <th></th>\n",
              "      <th></th>\n",
              "      <th></th>\n",
              "    </tr>\n",
              "  </thead>\n",
              "  <tbody>\n",
              "    <tr>\n",
              "      <th>M1</th>\n",
              "      <td>14948.0</td>\n",
              "      <td>NaN</td>\n",
              "      <td>NaN</td>\n",
              "    </tr>\n",
              "    <tr>\n",
              "      <th>M10</th>\n",
              "      <td>1209.0</td>\n",
              "      <td>NaN</td>\n",
              "      <td>NaN</td>\n",
              "    </tr>\n",
              "    <tr>\n",
              "      <th>M11</th>\n",
              "      <td>NaN</td>\n",
              "      <td>NaN</td>\n",
              "      <td>363.0</td>\n",
              "    </tr>\n",
              "    <tr>\n",
              "      <th>M2</th>\n",
              "      <td>NaN</td>\n",
              "      <td>NaN</td>\n",
              "      <td>1080.0</td>\n",
              "    </tr>\n",
              "    <tr>\n",
              "      <th>M3</th>\n",
              "      <td>NaN</td>\n",
              "      <td>NaN</td>\n",
              "      <td>2373.0</td>\n",
              "    </tr>\n",
              "    <tr>\n",
              "      <th>M4</th>\n",
              "      <td>NaN</td>\n",
              "      <td>14018.0</td>\n",
              "      <td>NaN</td>\n",
              "    </tr>\n",
              "    <tr>\n",
              "      <th>M5</th>\n",
              "      <td>NaN</td>\n",
              "      <td>1598.0</td>\n",
              "      <td>NaN</td>\n",
              "    </tr>\n",
              "    <tr>\n",
              "      <th>M6</th>\n",
              "      <td>NaN</td>\n",
              "      <td>NaN</td>\n",
              "      <td>13776.0</td>\n",
              "    </tr>\n",
              "    <tr>\n",
              "      <th>M7</th>\n",
              "      <td>NaN</td>\n",
              "      <td>NaN</td>\n",
              "      <td>2940.0</td>\n",
              "    </tr>\n",
              "    <tr>\n",
              "      <th>M8</th>\n",
              "      <td>4173.0</td>\n",
              "      <td>NaN</td>\n",
              "      <td>NaN</td>\n",
              "    </tr>\n",
              "    <tr>\n",
              "      <th>M9</th>\n",
              "      <td>NaN</td>\n",
              "      <td>2114.0</td>\n",
              "      <td>NaN</td>\n",
              "    </tr>\n",
              "  </tbody>\n",
              "</table>\n",
              "</div>\n",
              "      <button class=\"colab-df-convert\" onclick=\"convertToInteractive('df-010d1476-d6a9-4d44-98f0-b3f858939e71')\"\n",
              "              title=\"Convert this dataframe to an interactive table.\"\n",
              "              style=\"display:none;\">\n",
              "        \n",
              "  <svg xmlns=\"http://www.w3.org/2000/svg\" height=\"24px\"viewBox=\"0 0 24 24\"\n",
              "       width=\"24px\">\n",
              "    <path d=\"M0 0h24v24H0V0z\" fill=\"none\"/>\n",
              "    <path d=\"M18.56 5.44l.94 2.06.94-2.06 2.06-.94-2.06-.94-.94-2.06-.94 2.06-2.06.94zm-11 1L8.5 8.5l.94-2.06 2.06-.94-2.06-.94L8.5 2.5l-.94 2.06-2.06.94zm10 10l.94 2.06.94-2.06 2.06-.94-2.06-.94-.94-2.06-.94 2.06-2.06.94z\"/><path d=\"M17.41 7.96l-1.37-1.37c-.4-.4-.92-.59-1.43-.59-.52 0-1.04.2-1.43.59L10.3 9.45l-7.72 7.72c-.78.78-.78 2.05 0 2.83L4 21.41c.39.39.9.59 1.41.59.51 0 1.02-.2 1.41-.59l7.78-7.78 2.81-2.81c.8-.78.8-2.07 0-2.86zM5.41 20L4 18.59l7.72-7.72 1.47 1.35L5.41 20z\"/>\n",
              "  </svg>\n",
              "      </button>\n",
              "      \n",
              "  <style>\n",
              "    .colab-df-container {\n",
              "      display:flex;\n",
              "      flex-wrap:wrap;\n",
              "      gap: 12px;\n",
              "    }\n",
              "\n",
              "    .colab-df-convert {\n",
              "      background-color: #E8F0FE;\n",
              "      border: none;\n",
              "      border-radius: 50%;\n",
              "      cursor: pointer;\n",
              "      display: none;\n",
              "      fill: #1967D2;\n",
              "      height: 32px;\n",
              "      padding: 0 0 0 0;\n",
              "      width: 32px;\n",
              "    }\n",
              "\n",
              "    .colab-df-convert:hover {\n",
              "      background-color: #E2EBFA;\n",
              "      box-shadow: 0px 1px 2px rgba(60, 64, 67, 0.3), 0px 1px 3px 1px rgba(60, 64, 67, 0.15);\n",
              "      fill: #174EA6;\n",
              "    }\n",
              "\n",
              "    [theme=dark] .colab-df-convert {\n",
              "      background-color: #3B4455;\n",
              "      fill: #D2E3FC;\n",
              "    }\n",
              "\n",
              "    [theme=dark] .colab-df-convert:hover {\n",
              "      background-color: #434B5C;\n",
              "      box-shadow: 0px 1px 3px 1px rgba(0, 0, 0, 0.15);\n",
              "      filter: drop-shadow(0px 1px 2px rgba(0, 0, 0, 0.3));\n",
              "      fill: #FFFFFF;\n",
              "    }\n",
              "  </style>\n",
              "\n",
              "      <script>\n",
              "        const buttonEl =\n",
              "          document.querySelector('#df-010d1476-d6a9-4d44-98f0-b3f858939e71 button.colab-df-convert');\n",
              "        buttonEl.style.display =\n",
              "          google.colab.kernel.accessAllowed ? 'block' : 'none';\n",
              "\n",
              "        async function convertToInteractive(key) {\n",
              "          const element = document.querySelector('#df-010d1476-d6a9-4d44-98f0-b3f858939e71');\n",
              "          const dataTable =\n",
              "            await google.colab.kernel.invokeFunction('convertToInteractive',\n",
              "                                                     [key], {});\n",
              "          if (!dataTable) return;\n",
              "\n",
              "          const docLinkHtml = 'Like what you see? Visit the ' +\n",
              "            '<a target=\"_blank\" href=https://colab.research.google.com/notebooks/data_table.ipynb>data table notebook</a>'\n",
              "            + ' to learn more about interactive tables.';\n",
              "          element.innerHTML = '';\n",
              "          dataTable['output_type'] = 'display_data';\n",
              "          await google.colab.output.renderOutput(dataTable, element);\n",
              "          const docLink = document.createElement('div');\n",
              "          docLink.innerHTML = docLinkHtml;\n",
              "          element.appendChild(docLink);\n",
              "        }\n",
              "      </script>\n",
              "    </div>\n",
              "  </div>\n",
              "  "
            ]
          },
          "metadata": {},
          "execution_count": 33
        }
      ]
    },
    {
      "cell_type": "code",
      "source": [
        "import lightgbm as lgbm"
      ],
      "metadata": {
        "id": "--V5Tx8Q_oHC"
      },
      "execution_count": 34,
      "outputs": []
    },
    {
      "cell_type": "code",
      "source": [
        "def catboost_model(train,test,Folds=20):\n",
        "    x = train.drop(columns = ['policy_id','is_claim'])\n",
        "\n",
        "    x['ratio1'] = x['age_of_car'] / x['policy_tenure']\n",
        "    x['ratio2'] = x['age_of_policyholder'] / x['policy_tenure']\n",
        "\n",
        "    test['ratio1'] = test['age_of_car'] / test['policy_tenure']\n",
        "    test['ratio2'] = test['age_of_policyholder'] / test['policy_tenure']\n",
        "\n",
        "    columns_to_drop = ['policy_tenure','population_density','make','segment','max_torque','max_power','engine_type', 'airbags', 'is_esc', 'is_adjustable_steering',\n",
        "                   'is_tpms', 'is_parking_sensors', 'is_parking_camera','rear_brakes_type','displacement','cylinder','transmission_type','gear_box',\n",
        "                   'steering_type','turning_radius','length','width', 'gross_weight', 'is_front_fog_lights', 'is_rear_window_wiper','is_rear_window_washer',\n",
        "                   'is_rear_window_defogger', 'is_brake_assist', 'is_power_door_locks', 'is_central_locking', 'is_power_steering', 'is_driver_seat_height_adjustable',\n",
        "                   'is_day_night_rear_view_mirror','is_ecw', 'is_speed_alert','ncap_rating']\n",
        "    x.drop(columns = columns_to_drop,inplace=True)\n",
        "\n",
        "    y = train['is_claim']\n",
        "    x_test = test[x.columns.tolist()]\n",
        "\n",
        "    print(x.dtypes)\n",
        "\n",
        "\n",
        "    print(x.columns)\n",
        "\n",
        "    cat_features = x.select_dtypes(include='object').columns.tolist()\n",
        "    err = [] \n",
        "    oofs = np.zeros(shape=(len(x)))\n",
        "    preds = np.zeros(shape=(len(test)))\n",
        "\n",
        "    for col in cat_features:\n",
        "      x[col] = pd.Categorical(x[col])\n",
        "      x_test[col] = pd.Categorical(x_test[col])\n",
        "\n",
        "    fold = StratifiedKFold(n_splits=Folds, shuffle=True, random_state=1)\n",
        "    i = 1\n",
        "\n",
        "    for train_index, test_index in fold.split(x, y):\n",
        "        x_train, x_val = x.iloc[train_index], x.iloc[test_index]\n",
        "        y_train, y_val = y.iloc[train_index], y.iloc[test_index]\n",
        "        m = lgbm.LGBMClassifier( n_estimators=10000,learning_rate=0.1,num_leaves=3,categorical_feature = [2,3,4],\n",
        "                     max_depth=10,reg_alpha = 10, reg_lambda = 10,random_state=42, early_stopping_round=50)  \n",
        "        m.fit(x_train,y_train, eval_set = (x_val,y_val), verbose=200)\n",
        "        print('HI')\n",
        "        pred_y = m.predict_proba(x_val)[:,1]\n",
        "        oofs[test_index] = pred_y\n",
        "\n",
        "        precision, recall, thresholds = precision_recall_curve(y_val, pred_y)\n",
        "        # convert to f score\n",
        "        fscore = (2 * precision * recall) / (precision + recall)\n",
        "        # locate the index of the largest f score\n",
        "        ix = argmax(fscore)\n",
        "        print(i, \"Optimal F1: \", fscore[ix])\n",
        "        print(i, \"Optimal Threshold\", thresholds[ix])\n",
        "        err.append(fscore[ix])\n",
        "        preds+= m.predict_proba(x_test)[:,1]\n",
        "        # explainer = shap.TreeExplainer(m)\n",
        "        # shap_values = explainer.shap_values(x_train)\n",
        "        # shap.summary_plot(shap_values, x_train,plot_type='bar', max_display=20)\n",
        "        i = i + 1\n",
        "    preds=preds/Folds\n",
        "    print(f\"Average StratifiedKFold Score : {sum(err)/Folds} \")\n",
        "\n",
        "    precision, recall, thresholds = precision_recall_curve(y, oofs)\n",
        "    precision = np.where(precision ==0.0, 0.000000000000000001, precision)\n",
        "    recall = np.where(recall ==0.0, 0.000000000000000001, recall)\n",
        "        # convert to f score\n",
        "    fscore = (2 * precision * recall) / (precision + recall)\n",
        "        # locate the index of the largest f score\n",
        "    ix = argmax(fscore)\n",
        "    print(\"Final F Score\", fscore[ix])\n",
        "    print('Final Threshold', thresholds[ix])\n",
        "    return preds\n",
        "    # oof_score = rmsle(np.exp(oofs)-1,np.exp(y)-1)\n",
        "    # print(f'\\nOOF Auc is : {oof_score}')\n",
        "    \n",
        "    # oofs=pd.DataFrame(oofs,columns=['catboostoof'])\n",
        "    # preds=pd.DataFrame(preds,columns=['catboostpred'])\n",
        "    \n",
        "    # oofs.to_csv('catboostoof.csv',index=False)\n",
        "    # preds.to_csv('catboostpred.csv',index=False)\n"
      ],
      "metadata": {
        "id": "2jHCCpVZE7Zk"
      },
      "execution_count": 35,
      "outputs": []
    },
    {
      "cell_type": "code",
      "source": [
        "test['probs'] = catboost_model(train,test)"
      ],
      "metadata": {
        "colab": {
          "base_uri": "https://localhost:8080/"
        },
        "id": "IQfljBHJM_JB",
        "outputId": "364a1242-712c-4a9c-e8ef-b0f397cc6d68"
      },
      "execution_count": 36,
      "outputs": [
        {
          "output_type": "stream",
          "name": "stdout",
          "text": [
            "age_of_car             float64\n",
            "age_of_policyholder    float64\n",
            "area_cluster            object\n",
            "model                   object\n",
            "fuel_type               object\n",
            "height                   int64\n",
            "ratio1                 float64\n",
            "ratio2                 float64\n",
            "dtype: object\n",
            "Index(['age_of_car', 'age_of_policyholder', 'area_cluster', 'model',\n",
            "       'fuel_type', 'height', 'ratio1', 'ratio2'],\n",
            "      dtype='object')\n"
          ]
        },
        {
          "output_type": "stream",
          "name": "stderr",
          "text": [
            "\n",
            "A value is trying to be set on a copy of a slice from a DataFrame.\n",
            "Try using .loc[row_indexer,col_indexer] = value instead\n",
            "\n",
            "See the caveats in the documentation: https://pandas.pydata.org/pandas-docs/stable/user_guide/indexing.html#returning-a-view-versus-a-copy\n",
            "Found `early_stopping_round` in params. Will use it instead of argument\n",
            "categorical_feature keyword has been found in `params` and will be ignored.\n",
            "Please use categorical_feature argument of the Dataset constructor to pass this parameter.\n",
            "categorical_feature in param dict is overridden.\n"
          ]
        },
        {
          "output_type": "stream",
          "name": "stdout",
          "text": [
            "Training until validation scores don't improve for 50 rounds.\n",
            "Early stopping, best iteration is:\n",
            "[131]\tvalid_0's binary_logloss: 0.232497\n",
            "HI\n",
            "1 Optimal F1:  nan\n",
            "1 Optimal Threshold 0.13198143471207602\n"
          ]
        },
        {
          "output_type": "stream",
          "name": "stderr",
          "text": [
            "invalid value encountered in true_divide\n",
            "Found `early_stopping_round` in params. Will use it instead of argument\n",
            "categorical_feature keyword has been found in `params` and will be ignored.\n",
            "Please use categorical_feature argument of the Dataset constructor to pass this parameter.\n",
            "categorical_feature in param dict is overridden.\n"
          ]
        },
        {
          "output_type": "stream",
          "name": "stdout",
          "text": [
            "Training until validation scores don't improve for 50 rounds.\n",
            "[200]\tvalid_0's binary_logloss: 0.226172\n",
            "[400]\tvalid_0's binary_logloss: 0.225593\n",
            "Early stopping, best iteration is:\n",
            "[500]\tvalid_0's binary_logloss: 0.225444\n",
            "HI\n",
            "2 Optimal F1:  nan\n",
            "2 Optimal Threshold 0.18222880111944656\n"
          ]
        },
        {
          "output_type": "stream",
          "name": "stderr",
          "text": [
            "invalid value encountered in true_divide\n",
            "Found `early_stopping_round` in params. Will use it instead of argument\n",
            "categorical_feature keyword has been found in `params` and will be ignored.\n",
            "Please use categorical_feature argument of the Dataset constructor to pass this parameter.\n",
            "categorical_feature in param dict is overridden.\n"
          ]
        },
        {
          "output_type": "stream",
          "name": "stdout",
          "text": [
            "Training until validation scores don't improve for 50 rounds.\n",
            "[200]\tvalid_0's binary_logloss: 0.225687\n",
            "[400]\tvalid_0's binary_logloss: 0.225173\n",
            "Early stopping, best iteration is:\n",
            "[460]\tvalid_0's binary_logloss: 0.224981\n",
            "HI\n",
            "3 Optimal F1:  nan\n",
            "3 Optimal Threshold 0.16235078411300197\n"
          ]
        },
        {
          "output_type": "stream",
          "name": "stderr",
          "text": [
            "invalid value encountered in true_divide\n",
            "Found `early_stopping_round` in params. Will use it instead of argument\n",
            "categorical_feature keyword has been found in `params` and will be ignored.\n",
            "Please use categorical_feature argument of the Dataset constructor to pass this parameter.\n",
            "categorical_feature in param dict is overridden.\n"
          ]
        },
        {
          "output_type": "stream",
          "name": "stdout",
          "text": [
            "Training until validation scores don't improve for 50 rounds.\n",
            "[200]\tvalid_0's binary_logloss: 0.228148\n",
            "[400]\tvalid_0's binary_logloss: 0.227884\n",
            "Early stopping, best iteration is:\n",
            "[360]\tvalid_0's binary_logloss: 0.2278\n",
            "HI\n",
            "4 Optimal F1:  nan\n",
            "4 Optimal Threshold 0.1671371609692982\n"
          ]
        },
        {
          "output_type": "stream",
          "name": "stderr",
          "text": [
            "invalid value encountered in true_divide\n",
            "Found `early_stopping_round` in params. Will use it instead of argument\n",
            "categorical_feature keyword has been found in `params` and will be ignored.\n",
            "Please use categorical_feature argument of the Dataset constructor to pass this parameter.\n",
            "categorical_feature in param dict is overridden.\n"
          ]
        },
        {
          "output_type": "stream",
          "name": "stdout",
          "text": [
            "Training until validation scores don't improve for 50 rounds.\n",
            "Early stopping, best iteration is:\n",
            "[124]\tvalid_0's binary_logloss: 0.231466\n",
            "HI\n",
            "5 Optimal F1:  0.16774193548387095\n",
            "5 Optimal Threshold 0.09348570422104674\n"
          ]
        },
        {
          "output_type": "stream",
          "name": "stderr",
          "text": [
            "Found `early_stopping_round` in params. Will use it instead of argument\n",
            "categorical_feature keyword has been found in `params` and will be ignored.\n",
            "Please use categorical_feature argument of the Dataset constructor to pass this parameter.\n",
            "categorical_feature in param dict is overridden.\n"
          ]
        },
        {
          "output_type": "stream",
          "name": "stdout",
          "text": [
            "Training until validation scores don't improve for 50 rounds.\n",
            "Early stopping, best iteration is:\n",
            "[114]\tvalid_0's binary_logloss: 0.230102\n",
            "HI\n",
            "6 Optimal F1:  nan\n",
            "6 Optimal Threshold 0.12859160522573265\n"
          ]
        },
        {
          "output_type": "stream",
          "name": "stderr",
          "text": [
            "invalid value encountered in true_divide\n",
            "Found `early_stopping_round` in params. Will use it instead of argument\n",
            "categorical_feature keyword has been found in `params` and will be ignored.\n",
            "Please use categorical_feature argument of the Dataset constructor to pass this parameter.\n",
            "categorical_feature in param dict is overridden.\n"
          ]
        },
        {
          "output_type": "stream",
          "name": "stdout",
          "text": [
            "Training until validation scores don't improve for 50 rounds.\n",
            "[200]\tvalid_0's binary_logloss: 0.228197\n",
            "[400]\tvalid_0's binary_logloss: 0.22774\n",
            "Early stopping, best iteration is:\n",
            "[439]\tvalid_0's binary_logloss: 0.227696\n",
            "HI\n",
            "7 Optimal F1:  nan\n",
            "7 Optimal Threshold 0.16152520058705272\n"
          ]
        },
        {
          "output_type": "stream",
          "name": "stderr",
          "text": [
            "invalid value encountered in true_divide\n",
            "Found `early_stopping_round` in params. Will use it instead of argument\n",
            "categorical_feature keyword has been found in `params` and will be ignored.\n",
            "Please use categorical_feature argument of the Dataset constructor to pass this parameter.\n",
            "categorical_feature in param dict is overridden.\n"
          ]
        },
        {
          "output_type": "stream",
          "name": "stdout",
          "text": [
            "Training until validation scores don't improve for 50 rounds.\n",
            "[200]\tvalid_0's binary_logloss: 0.231102\n",
            "Early stopping, best iteration is:\n",
            "[231]\tvalid_0's binary_logloss: 0.231055\n",
            "HI\n",
            "8 Optimal F1:  nan\n",
            "8 Optimal Threshold 0.14243793712535852\n"
          ]
        },
        {
          "output_type": "stream",
          "name": "stderr",
          "text": [
            "invalid value encountered in true_divide\n",
            "Found `early_stopping_round` in params. Will use it instead of argument\n",
            "categorical_feature keyword has been found in `params` and will be ignored.\n",
            "Please use categorical_feature argument of the Dataset constructor to pass this parameter.\n",
            "categorical_feature in param dict is overridden.\n"
          ]
        },
        {
          "output_type": "stream",
          "name": "stdout",
          "text": [
            "Training until validation scores don't improve for 50 rounds.\n",
            "[200]\tvalid_0's binary_logloss: 0.23015\n",
            "Early stopping, best iteration is:\n",
            "[225]\tvalid_0's binary_logloss: 0.230089\n",
            "HI\n",
            "9 Optimal F1:  nan\n",
            "9 Optimal Threshold 0.14937063569474274\n"
          ]
        },
        {
          "output_type": "stream",
          "name": "stderr",
          "text": [
            "invalid value encountered in true_divide\n",
            "Found `early_stopping_round` in params. Will use it instead of argument\n",
            "categorical_feature keyword has been found in `params` and will be ignored.\n",
            "Please use categorical_feature argument of the Dataset constructor to pass this parameter.\n",
            "categorical_feature in param dict is overridden.\n"
          ]
        },
        {
          "output_type": "stream",
          "name": "stdout",
          "text": [
            "Training until validation scores don't improve for 50 rounds.\n",
            "[200]\tvalid_0's binary_logloss: 0.229623\n",
            "[400]\tvalid_0's binary_logloss: 0.228972\n",
            "Early stopping, best iteration is:\n",
            "[428]\tvalid_0's binary_logloss: 0.2289\n",
            "HI\n",
            "10 Optimal F1:  nan\n",
            "10 Optimal Threshold 0.1804769951417594\n"
          ]
        },
        {
          "output_type": "stream",
          "name": "stderr",
          "text": [
            "invalid value encountered in true_divide\n",
            "Found `early_stopping_round` in params. Will use it instead of argument\n",
            "categorical_feature keyword has been found in `params` and will be ignored.\n",
            "Please use categorical_feature argument of the Dataset constructor to pass this parameter.\n",
            "categorical_feature in param dict is overridden.\n"
          ]
        },
        {
          "output_type": "stream",
          "name": "stdout",
          "text": [
            "Training until validation scores don't improve for 50 rounds.\n",
            "[200]\tvalid_0's binary_logloss: 0.231012\n",
            "[400]\tvalid_0's binary_logloss: 0.230522\n",
            "Early stopping, best iteration is:\n",
            "[359]\tvalid_0's binary_logloss: 0.23042\n",
            "HI\n",
            "11 Optimal F1:  0.18729096989966554\n",
            "11 Optimal Threshold 0.07535239237725293\n"
          ]
        },
        {
          "output_type": "stream",
          "name": "stderr",
          "text": [
            "Found `early_stopping_round` in params. Will use it instead of argument\n",
            "categorical_feature keyword has been found in `params` and will be ignored.\n",
            "Please use categorical_feature argument of the Dataset constructor to pass this parameter.\n",
            "categorical_feature in param dict is overridden.\n"
          ]
        },
        {
          "output_type": "stream",
          "name": "stdout",
          "text": [
            "Training until validation scores don't improve for 50 rounds.\n",
            "[200]\tvalid_0's binary_logloss: 0.228743\n",
            "Early stopping, best iteration is:\n",
            "[307]\tvalid_0's binary_logloss: 0.22842\n",
            "HI\n",
            "12 Optimal F1:  nan\n",
            "12 Optimal Threshold 0.16705185792998206\n"
          ]
        },
        {
          "output_type": "stream",
          "name": "stderr",
          "text": [
            "invalid value encountered in true_divide\n",
            "Found `early_stopping_round` in params. Will use it instead of argument\n",
            "categorical_feature keyword has been found in `params` and will be ignored.\n",
            "Please use categorical_feature argument of the Dataset constructor to pass this parameter.\n",
            "categorical_feature in param dict is overridden.\n"
          ]
        },
        {
          "output_type": "stream",
          "name": "stdout",
          "text": [
            "Training until validation scores don't improve for 50 rounds.\n",
            "[200]\tvalid_0's binary_logloss: 0.228611\n",
            "[400]\tvalid_0's binary_logloss: 0.227937\n",
            "Early stopping, best iteration is:\n",
            "[393]\tvalid_0's binary_logloss: 0.227914\n",
            "HI\n",
            "13 Optimal F1:  0.19441069258809235\n",
            "13 Optimal Threshold 0.0890283829261099\n"
          ]
        },
        {
          "output_type": "stream",
          "name": "stderr",
          "text": [
            "Found `early_stopping_round` in params. Will use it instead of argument\n",
            "categorical_feature keyword has been found in `params` and will be ignored.\n",
            "Please use categorical_feature argument of the Dataset constructor to pass this parameter.\n",
            "categorical_feature in param dict is overridden.\n"
          ]
        },
        {
          "output_type": "stream",
          "name": "stdout",
          "text": [
            "Training until validation scores don't improve for 50 rounds.\n",
            "[200]\tvalid_0's binary_logloss: 0.226706\n",
            "Early stopping, best iteration is:\n",
            "[155]\tvalid_0's binary_logloss: 0.226671\n",
            "HI\n",
            "14 Optimal F1:  nan\n",
            "14 Optimal Threshold 0.1366120778593566\n"
          ]
        },
        {
          "output_type": "stream",
          "name": "stderr",
          "text": [
            "invalid value encountered in true_divide\n",
            "Found `early_stopping_round` in params. Will use it instead of argument\n",
            "categorical_feature keyword has been found in `params` and will be ignored.\n",
            "Please use categorical_feature argument of the Dataset constructor to pass this parameter.\n",
            "categorical_feature in param dict is overridden.\n"
          ]
        },
        {
          "output_type": "stream",
          "name": "stdout",
          "text": [
            "Training until validation scores don't improve for 50 rounds.\n",
            "[200]\tvalid_0's binary_logloss: 0.230966\n",
            "Early stopping, best iteration is:\n",
            "[284]\tvalid_0's binary_logloss: 0.230909\n",
            "HI\n",
            "15 Optimal F1:  nan\n",
            "15 Optimal Threshold 0.15370716290141828\n"
          ]
        },
        {
          "output_type": "stream",
          "name": "stderr",
          "text": [
            "invalid value encountered in true_divide\n",
            "Found `early_stopping_round` in params. Will use it instead of argument\n",
            "categorical_feature keyword has been found in `params` and will be ignored.\n",
            "Please use categorical_feature argument of the Dataset constructor to pass this parameter.\n",
            "categorical_feature in param dict is overridden.\n"
          ]
        },
        {
          "output_type": "stream",
          "name": "stdout",
          "text": [
            "Training until validation scores don't improve for 50 rounds.\n",
            "[200]\tvalid_0's binary_logloss: 0.227516\n",
            "[400]\tvalid_0's binary_logloss: 0.226735\n",
            "Early stopping, best iteration is:\n",
            "[384]\tvalid_0's binary_logloss: 0.226668\n",
            "HI\n",
            "16 Optimal F1:  nan\n",
            "16 Optimal Threshold 0.16987568952972837\n"
          ]
        },
        {
          "output_type": "stream",
          "name": "stderr",
          "text": [
            "invalid value encountered in true_divide\n",
            "Found `early_stopping_round` in params. Will use it instead of argument\n",
            "categorical_feature keyword has been found in `params` and will be ignored.\n",
            "Please use categorical_feature argument of the Dataset constructor to pass this parameter.\n",
            "categorical_feature in param dict is overridden.\n"
          ]
        },
        {
          "output_type": "stream",
          "name": "stdout",
          "text": [
            "Training until validation scores don't improve for 50 rounds.\n",
            "Early stopping, best iteration is:\n",
            "[57]\tvalid_0's binary_logloss: 0.231839\n",
            "HI\n",
            "17 Optimal F1:  nan\n",
            "17 Optimal Threshold 0.11924531578856468\n",
            "Training until validation scores don't improve for 50 rounds.\n"
          ]
        },
        {
          "output_type": "stream",
          "name": "stderr",
          "text": [
            "invalid value encountered in true_divide\n",
            "Found `early_stopping_round` in params. Will use it instead of argument\n",
            "categorical_feature keyword has been found in `params` and will be ignored.\n",
            "Please use categorical_feature argument of the Dataset constructor to pass this parameter.\n",
            "categorical_feature in param dict is overridden.\n"
          ]
        },
        {
          "output_type": "stream",
          "name": "stdout",
          "text": [
            "[200]\tvalid_0's binary_logloss: 0.229076\n",
            "Early stopping, best iteration is:\n",
            "[150]\tvalid_0's binary_logloss: 0.228963\n",
            "HI\n",
            "18 Optimal F1:  nan\n",
            "18 Optimal Threshold 0.14011829115982702\n"
          ]
        },
        {
          "output_type": "stream",
          "name": "stderr",
          "text": [
            "invalid value encountered in true_divide\n",
            "Found `early_stopping_round` in params. Will use it instead of argument\n",
            "categorical_feature keyword has been found in `params` and will be ignored.\n",
            "Please use categorical_feature argument of the Dataset constructor to pass this parameter.\n",
            "categorical_feature in param dict is overridden.\n"
          ]
        },
        {
          "output_type": "stream",
          "name": "stdout",
          "text": [
            "Training until validation scores don't improve for 50 rounds.\n",
            "[200]\tvalid_0's binary_logloss: 0.229099\n",
            "Early stopping, best iteration is:\n",
            "[157]\tvalid_0's binary_logloss: 0.228902\n",
            "HI\n",
            "19 Optimal F1:  nan\n",
            "19 Optimal Threshold 0.1360547920494441\n"
          ]
        },
        {
          "output_type": "stream",
          "name": "stderr",
          "text": [
            "invalid value encountered in true_divide\n",
            "Found `early_stopping_round` in params. Will use it instead of argument\n",
            "categorical_feature keyword has been found in `params` and will be ignored.\n",
            "Please use categorical_feature argument of the Dataset constructor to pass this parameter.\n",
            "categorical_feature in param dict is overridden.\n"
          ]
        },
        {
          "output_type": "stream",
          "name": "stdout",
          "text": [
            "Training until validation scores don't improve for 50 rounds.\n",
            "[200]\tvalid_0's binary_logloss: 0.229129\n",
            "[400]\tvalid_0's binary_logloss: 0.228274\n",
            "Early stopping, best iteration is:\n",
            "[459]\tvalid_0's binary_logloss: 0.228071\n",
            "HI\n",
            "20 Optimal F1:  nan\n",
            "20 Optimal Threshold 0.17052292463760882\n"
          ]
        },
        {
          "output_type": "stream",
          "name": "stderr",
          "text": [
            "invalid value encountered in true_divide\n"
          ]
        },
        {
          "output_type": "stream",
          "name": "stdout",
          "text": [
            "Average StratifiedKFold Score : nan \n",
            "Final F Score 0.17392277560156685\n",
            "Final Threshold 0.08716301213648549\n"
          ]
        }
      ]
    },
    {
      "cell_type": "code",
      "source": [],
      "metadata": {
        "id": "YlLBRBzIevjp"
      },
      "execution_count": 36,
      "outputs": []
    },
    {
      "cell_type": "code",
      "source": [
        "test['is_claim'] = np.where(test['probs']>=0.08716301213648549, 1,0)"
      ],
      "metadata": {
        "id": "kt86DTgVP1fZ"
      },
      "execution_count": 37,
      "outputs": []
    },
    {
      "cell_type": "code",
      "source": [
        "test['is_claim'].value_counts(normalize=True)"
      ],
      "metadata": {
        "colab": {
          "base_uri": "https://localhost:8080/"
        },
        "id": "6XdZMQoDHMvg",
        "outputId": "fb42fef9-a114-42ab-9ea0-c72a2786d9ba"
      },
      "execution_count": 38,
      "outputs": [
        {
          "output_type": "execute_result",
          "data": {
            "text/plain": [
              "0    0.760003\n",
              "1    0.239997\n",
              "Name: is_claim, dtype: float64"
            ]
          },
          "metadata": {},
          "execution_count": 38
        }
      ]
    },
    {
      "cell_type": "code",
      "source": [
        "test[['policy_id','is_claim']].to_csv('data_verse_13.csv',index=False)"
      ],
      "metadata": {
        "id": "G843Ay_ZP9Zv"
      },
      "execution_count": 39,
      "outputs": []
    },
    {
      "cell_type": "code",
      "source": [],
      "metadata": {
        "id": "BZkTNA3nQJUI"
      },
      "execution_count": null,
      "outputs": []
    }
  ]
}